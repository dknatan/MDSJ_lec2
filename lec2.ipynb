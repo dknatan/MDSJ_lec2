{
 "cells": [
  {
   "cell_type": "code",
   "execution_count": 3,
   "metadata": {},
   "outputs": [
    {
     "name": "stderr",
     "output_type": "stream",
     "text": [
      "\u001b[32m\u001b[1m  Activating\u001b[22m\u001b[39m project at `~/Documents/TMP/MDSJ/lecture2/Lecture2.jl`\n"
     ]
    },
    {
     "name": "stderr",
     "output_type": "stream",
     "text": [
      "\u001b[32m\u001b[1m   Resolving\u001b[22m\u001b[39m package versions...\n"
     ]
    },
    {
     "name": "stderr",
     "output_type": "stream",
     "text": [
      "\u001b[32m\u001b[1m  No Changes\u001b[22m\u001b[39m to `~/Documents/TMP/MDSJ/lecture2/Lecture2.jl/Project.toml`\n",
      "\u001b[32m\u001b[1m  No Changes\u001b[22m\u001b[39m to `~/Documents/TMP/MDSJ/lecture2/Lecture2.jl/Manifest.toml`\n"
     ]
    },
    {
     "name": "stderr",
     "output_type": "stream",
     "text": [
      "\u001b[32m\u001b[1m   Resolving\u001b[22m\u001b[39m package versions...\n"
     ]
    },
    {
     "name": "stderr",
     "output_type": "stream",
     "text": [
      "\u001b[32m\u001b[1m   Installed\u001b[22m\u001b[39m JpegTurbo_jll ──────────────── v2.1.91+0\n",
      "\u001b[32m\u001b[1m   Installed\u001b[22m\u001b[39m LERC_jll ───────────────────── v3.0.0+1\n",
      "\u001b[32m\u001b[1m   Installed\u001b[22m\u001b[39m GR_jll ─────────────────────── v0.72.10+0\n",
      "\u001b[32m\u001b[1m   Installed\u001b[22m\u001b[39m Libmount_jll ───────────────── v2.35.0+0\n",
      "\u001b[32m\u001b[1m   Installed\u001b[22m\u001b[39m Opus_jll ───────────────────── v1.3.2+0\n",
      "\u001b[32m\u001b[1m   Installed\u001b[22m\u001b[39m libfdk_aac_jll ─────────────── v2.0.2+0\n",
      "\u001b[32m\u001b[1m   Installed\u001b[22m\u001b[39m x265_jll ───────────────────── v3.5.0+0\n",
      "\u001b[32m\u001b[1m   Installed\u001b[22m\u001b[39m LoggingExtras ──────────────── v1.0.3\n"
     ]
    },
    {
     "name": "stderr",
     "output_type": "stream",
     "text": [
      "\u001b[32m\u001b[1m   Installed\u001b[22m\u001b[39m Xorg_xkbcomp_jll ───────────── v1.4.6+0\n"
     ]
    },
    {
     "name": "stderr",
     "output_type": "stream",
     "text": [
      "\u001b[32m\u001b[1m   Installed\u001b[22m\u001b[39m ConcurrentUtilities ────────── v2.2.1\n",
      "\u001b[32m\u001b[1m   Installed\u001b[22m\u001b[39m Grisu ──────────────────────── v1.0.2\n",
      "\u001b[32m\u001b[1m   Installed\u001b[22m\u001b[39m Measures ───────────────────── v0.3.2\n",
      "\u001b[32m\u001b[1m   Installed\u001b[22m\u001b[39m RelocatableFolders ─────────── v1.0.1\n",
      "\u001b[32m\u001b[1m   Installed\u001b[22m\u001b[39m Contour ────────────────────── v0.6.2\n"
     ]
    },
    {
     "name": "stderr",
     "output_type": "stream",
     "text": [
      "\u001b[32m\u001b[1m   Installed\u001b[22m\u001b[39m Xorg_xcb_util_wm_jll ───────── v0.4.1+1\n"
     ]
    },
    {
     "name": "stderr",
     "output_type": "stream",
     "text": [
      "\u001b[32m\u001b[1m   Installed\u001b[22m\u001b[39m Xorg_xcb_util_image_jll ────── v0.4.0+1\n",
      "\u001b[32m\u001b[1m   Installed\u001b[22m\u001b[39m Xorg_libpthread_stubs_jll ──── v0.1.1+0\n",
      "\u001b[32m\u001b[1m   Installed\u001b[22m\u001b[39m PlotUtils ──────────────────── v1.3.5\n",
      "\u001b[32m\u001b[1m   Installed\u001b[22m\u001b[39m RecipesPipeline ────────────── v0.6.12\n",
      "\u001b[32m\u001b[1m   Installed\u001b[22m\u001b[39m OpenSSL ────────────────────── v1.4.1\n"
     ]
    },
    {
     "name": "stderr",
     "output_type": "stream",
     "text": [
      "\u001b[32m\u001b[1m   Installed\u001b[22m\u001b[39m HTTP ───────────────────────── v1.10.0\n"
     ]
    },
    {
     "name": "stderr",
     "output_type": "stream",
     "text": [
      "\u001b[32m\u001b[1m   Installed\u001b[22m\u001b[39m Cairo_jll ──────────────────── v1.16.1+1\n",
      "\u001b[32m\u001b[1m   Installed\u001b[22m\u001b[39m Xorg_libSM_jll ─────────────── v1.2.3+0\n",
      "\u001b[32m\u001b[1m   Installed\u001b[22m\u001b[39m Xorg_xcb_util_jll ──────────── v0.4.0+1\n"
     ]
    },
    {
     "name": "stderr",
     "output_type": "stream",
     "text": [
      "\u001b[32m\u001b[1m   Installed\u001b[22m\u001b[39m Libgpg_error_jll ───────────── v1.42.0+0\n",
      "\u001b[32m\u001b[1m   Installed\u001b[22m\u001b[39m Fontconfig_jll ─────────────── v2.13.93+0\n",
      "\u001b[32m\u001b[1m   Installed\u001b[22m\u001b[39m Xorg_libxkbfile_jll ────────── v1.1.2+0\n"
     ]
    },
    {
     "name": "stderr",
     "output_type": "stream",
     "text": [
      "\u001b[32m\u001b[1m   Installed\u001b[22m\u001b[39m Xorg_libXinerama_jll ───────── v1.1.4+4\n",
      "\u001b[32m\u001b[1m   Installed\u001b[22m\u001b[39m Xorg_libXau_jll ────────────── v1.0.11+0\n",
      "\u001b[32m\u001b[1m   Installed\u001b[22m\u001b[39m EpollShim_jll ──────────────── v0.0.20230411+0\n"
     ]
    },
    {
     "name": "stderr",
     "output_type": "stream",
     "text": [
      "\u001b[32m\u001b[1m   Installed\u001b[22m\u001b[39m Xorg_xcb_util_keysyms_jll ──── v0.4.0+1\n",
      "\u001b[32m\u001b[1m   Installed\u001b[22m\u001b[39m FFMPEG ─────────────────────── v0.4.1\n",
      "\u001b[32m\u001b[1m   Installed\u001b[22m\u001b[39m Showoff ────────────────────── v1.0.3\n"
     ]
    },
    {
     "name": "stderr",
     "output_type": "stream",
     "text": [
      "\u001b[32m\u001b[1m   Installed\u001b[22m\u001b[39m xkbcommon_jll ──────────────── v1.4.1+1\n",
      "\u001b[32m\u001b[1m   Installed\u001b[22m\u001b[39m Bzip2_jll ──────────────────── v1.0.8+0\n",
      "\u001b[32m\u001b[1m   Installed\u001b[22m\u001b[39m Pipe ───────────────────────── v1.3.0\n"
     ]
    },
    {
     "name": "stderr",
     "output_type": "stream",
     "text": [
      "\u001b[32m\u001b[1m   Installed\u001b[22m\u001b[39m HarfBuzz_jll ───────────────── v2.8.1+1\n",
      "\u001b[32m\u001b[1m   Installed\u001b[22m\u001b[39m SimpleBufferStream ─────────── v1.1.0\n",
      "\u001b[32m\u001b[1m   Installed\u001b[22m\u001b[39m XZ_jll ─────────────────────── v5.4.4+0\n"
     ]
    },
    {
     "name": "stderr",
     "output_type": "stream",
     "text": [
      "\u001b[32m\u001b[1m   Installed\u001b[22m\u001b[39m LZO_jll ────────────────────── v2.10.1+0\n",
      "\u001b[32m\u001b[1m   Installed\u001b[22m\u001b[39m PlotThemes ─────────────────── v3.1.0\n"
     ]
    },
    {
     "name": "stderr",
     "output_type": "stream",
     "text": [
      "\u001b[32m\u001b[1m   Installed\u001b[22m\u001b[39m fzf_jll ────────────────────── v0.35.1+0\n",
      "\u001b[32m\u001b[1m   Installed\u001b[22m\u001b[39m TranscodingStreams ─────────── v0.10.1\n"
     ]
    },
    {
     "name": "stderr",
     "output_type": "stream",
     "text": [
      "\u001b[32m\u001b[1m   Installed\u001b[22m\u001b[39m FriBidi_jll ────────────────── v1.0.10+0\n",
      "\u001b[32m\u001b[1m   Installed\u001b[22m\u001b[39m UnicodeFun ─────────────────── v0.4.1\n"
     ]
    },
    {
     "name": "stderr",
     "output_type": "stream",
     "text": [
      "\u001b[32m\u001b[1m   Installed\u001b[22m\u001b[39m ColorSchemes ───────────────── v3.24.0\n"
     ]
    },
    {
     "name": "stderr",
     "output_type": "stream",
     "text": [
      "\u001b[32m\u001b[1m   Installed\u001b[22m\u001b[39m GLFW_jll ───────────────────── v3.3.8+0\n"
     ]
    },
    {
     "name": "stderr",
     "output_type": "stream",
     "text": [
      "\u001b[32m\u001b[1m   Installed\u001b[22m\u001b[39m x264_jll ───────────────────── v2021.5.5+0\n",
      "\u001b[32m\u001b[1m   Installed\u001b[22m\u001b[39m FreeType2_jll ──────────────── v2.13.1+0\n",
      "\u001b[32m\u001b[1m   Installed\u001b[22m\u001b[39m MbedTLS ────────────────────── v1.1.7\n",
      "\u001b[32m\u001b[1m   Installed\u001b[22m\u001b[39m JLFzf ──────────────────────── v0.1.6\n"
     ]
    },
    {
     "name": "stderr",
     "output_type": "stream",
     "text": [
      "\u001b[32m\u001b[1m   Installed\u001b[22m\u001b[39m CodecZlib ──────────────────── v0.7.3\n"
     ]
    },
    {
     "name": "stderr",
     "output_type": "stream",
     "text": [
      "\u001b[32m\u001b[1m   Installed\u001b[22m\u001b[39m Xorg_libxcb_jll ────────────── v1.15.0+0\n"
     ]
    },
    {
     "name": "stderr",
     "output_type": "stream",
     "text": [
      "\u001b[32m\u001b[1m   Installed\u001b[22m\u001b[39m mtdev_jll ──────────────────── v1.1.6+0\n",
      "\u001b[32m\u001b[1m   Installed\u001b[22m\u001b[39m libaom_jll ─────────────────── v3.4.0+0\n",
      "\u001b[32m\u001b[1m   Installed\u001b[22m\u001b[39m libpng_jll ─────────────────── v1.6.38+0\n",
      "\u001b[32m\u001b[1m   Installed\u001b[22m\u001b[39m ExceptionUnwrapping ────────── v0.1.9\n",
      "\u001b[32m\u001b[1m   Installed\u001b[22m\u001b[39m Colors ─────────────────────── v0.12.10\n",
      "\u001b[32m\u001b[1m   Installed\u001b[22m\u001b[39m Scratch ────────────────────── v1.2.0\n",
      "\u001b[32m\u001b[1m   Installed\u001b[22m\u001b[39m ColorTypes ─────────────────── v0.11.4\n"
     ]
    },
    {
     "name": "stderr",
     "output_type": "stream",
     "text": [
      "\u001b[32m\u001b[1m   Installed\u001b[22m\u001b[39m Xorg_libXext_jll ───────────── v1.3.4+4\n",
      "\u001b[32m\u001b[1m   Installed\u001b[22m\u001b[39m eudev_jll ──────────────────── v3.2.9+0\n",
      "\u001b[32m\u001b[1m   Installed\u001b[22m\u001b[39m Zstd_jll ───────────────────── v1.5.5+0\n",
      "\u001b[32m\u001b[1m   Installed\u001b[22m\u001b[39m TensorCore ─────────────────── v0.1.1\n"
     ]
    },
    {
     "name": "stderr",
     "output_type": "stream",
     "text": [
      "\u001b[32m\u001b[1m   Installed\u001b[22m\u001b[39m gperf_jll ──────────────────── v3.1.1+0\n",
      "\u001b[32m\u001b[1m   Installed\u001b[22m\u001b[39m Xorg_xcb_util_cursor_jll ───── v0.1.4+0\n",
      "\u001b[32m\u001b[1m   Installed\u001b[22m\u001b[39m Plots ──────────────────────── v1.39.0\n"
     ]
    },
    {
     "name": "stderr",
     "output_type": "stream",
     "text": [
      "\u001b[32m\u001b[1m   Installed\u001b[22m\u001b[39m GR ─────────────────────────── v0.72.10\n",
      "\u001b[32m\u001b[1m   Installed\u001b[22m\u001b[39m Expat_jll ──────────────────── v2.5.0+0\n",
      "\u001b[32m\u001b[1m   Installed\u001b[22m\u001b[39m Libtiff_jll ────────────────── v4.5.1+1\n",
      "\u001b[32m\u001b[1m   Installed\u001b[22m\u001b[39m Libffi_jll ─────────────────── v3.2.2+1\n",
      "\u001b[32m\u001b[1m   Installed\u001b[22m\u001b[39m ColorVectorSpace ───────────── v0.10.0\n",
      "\u001b[32m\u001b[1m   Installed\u001b[22m\u001b[39m libinput_jll ───────────────── v1.18.0+0\n",
      "\u001b[32m\u001b[1m   Installed\u001b[22m\u001b[39m Xorg_libXrender_jll ────────── v0.9.10+4\n",
      "\u001b[32m\u001b[1m   Installed\u001b[22m\u001b[39m libevdev_jll ───────────────── v1.11.0+0\n"
     ]
    },
    {
     "name": "stderr",
     "output_type": "stream",
     "text": [
      "\u001b[32m\u001b[1m   Installed\u001b[22m\u001b[39m Xorg_libXi_jll ─────────────── v1.7.10+4\n",
      "\u001b[32m\u001b[1m   Installed\u001b[22m\u001b[39m Ogg_jll ────────────────────── v1.3.5+1\n",
      "\u001b[32m\u001b[1m   Installed\u001b[22m\u001b[39m Xorg_libXcursor_jll ────────── v1.2.0+4\n",
      "\u001b[32m\u001b[1m   Installed\u001b[22m\u001b[39m Vulkan_Loader_jll ──────────── v1.3.243+0\n",
      "\u001b[32m\u001b[1m   Installed\u001b[22m\u001b[39m XSLT_jll ───────────────────── v1.1.34+0\n",
      "\u001b[32m\u001b[1m   Installed\u001b[22m\u001b[39m Wayland_protocols_jll ──────── v1.25.0+0\n",
      "\u001b[32m\u001b[1m   Installed\u001b[22m\u001b[39m Xorg_xcb_util_renderutil_jll ─ v0.3.9+1\n",
      "\u001b[32m\u001b[1m   Installed\u001b[22m\u001b[39m Libuuid_jll ────────────────── v2.36.0+0\n"
     ]
    },
    {
     "name": "stderr",
     "output_type": "stream",
     "text": [
      "\u001b[32m\u001b[1m   Installed\u001b[22m\u001b[39m Graphite2_jll ──────────────── v1.3.14+0\n",
      "\u001b[32m\u001b[1m   Installed\u001b[22m\u001b[39m libass_jll ─────────────────── v0.15.1+0\n",
      "\u001b[32m\u001b[1m   Installed\u001b[22m\u001b[39m Xorg_libICE_jll ────────────── v1.0.10+1\n",
      "\u001b[32m\u001b[1m   Installed\u001b[22m\u001b[39m Pixman_jll ─────────────────── v0.42.2+0\n",
      "\u001b[32m\u001b[1m   Installed\u001b[22m\u001b[39m XML2_jll ───────────────────── v2.11.5+0\n",
      "\u001b[32m\u001b[1m   Installed\u001b[22m\u001b[39m Gettext_jll ────────────────── v0.21.0+0\n",
      "\u001b[32m\u001b[1m   Installed\u001b[22m\u001b[39m Wayland_jll ────────────────── v1.21.0+1\n",
      "\u001b[32m\u001b[1m   Installed\u001b[22m\u001b[39m Xorg_xtrans_jll ────────────── v1.5.0+0\n",
      "\u001b[32m\u001b[1m   Installed\u001b[22m\u001b[39m OpenSSL_jll ────────────────── v1.1.23+0\n",
      "\u001b[32m\u001b[1m   Installed\u001b[22m\u001b[39m FFMPEG_jll ─────────────────── v4.4.2+2\n",
      "\u001b[32m\u001b[1m   Installed\u001b[22m\u001b[39m BitFlags ───────────────────── v0.1.7\n"
     ]
    },
    {
     "name": "stderr",
     "output_type": "stream",
     "text": [
      "\u001b[32m\u001b[1m   Installed\u001b[22m\u001b[39m Xorg_xkeyboard_config_jll ──── v2.39.0+0\n",
      "\u001b[32m\u001b[1m   Installed\u001b[22m\u001b[39m Libgcrypt_jll ──────────────── v1.8.7+0\n",
      "\u001b[32m\u001b[1m   Installed\u001b[22m\u001b[39m Xorg_libXrandr_jll ─────────── v1.5.2+4\n",
      "\u001b[32m\u001b[1m   Installed\u001b[22m\u001b[39m LLVMOpenMP_jll ─────────────── v15.0.4+0\n",
      "\u001b[32m\u001b[1m   Installed\u001b[22m\u001b[39m FixedPointNumbers ──────────── v0.8.4\n",
      "\u001b[32m\u001b[1m   Installed\u001b[22m\u001b[39m Libiconv_jll ───────────────── v1.17.0+0\n",
      "\u001b[32m\u001b[1m   Installed\u001b[22m\u001b[39m LAME_jll ───────────────────── v3.100.1+0\n",
      "\u001b[32m\u001b[1m   Installed\u001b[22m\u001b[39m Xorg_libXfixes_jll ─────────── v5.0.3+4\n",
      "\u001b[32m\u001b[1m   Installed\u001b[22m\u001b[39m Glib_jll ───────────────────── v2.76.5+0\n",
      "\u001b[32m\u001b[1m   Installed\u001b[22m\u001b[39m Qt6Base_jll ────────────────── v6.5.2+2\n"
     ]
    },
    {
     "name": "stderr",
     "output_type": "stream",
     "text": [
      "\u001b[32m\u001b[1m   Installed\u001b[22m\u001b[39m libvorbis_jll ──────────────── v1.3.7+1\n",
      "\u001b[32m\u001b[1m   Installed\u001b[22m\u001b[39m Libglvnd_jll ───────────────── v1.6.0+0\n",
      "\u001b[32m\u001b[1m   Installed\u001b[22m\u001b[39m Xorg_libX11_jll ────────────── v1.8.6+0\n",
      "\u001b[32m\u001b[1m   Installed\u001b[22m\u001b[39m Xorg_libXdmcp_jll ──────────── v1.1.4+0\n"
     ]
    },
    {
     "name": "stderr",
     "output_type": "stream",
     "text": [
      "\u001b[32m\u001b[1m   Installed\u001b[22m\u001b[39m Unzip ──────────────────────── v0.2.0\n",
      "\u001b[32m\u001b[1m   Installed\u001b[22m\u001b[39m UnitfulLatexify ────────────── v1.6.3\n"
     ]
    },
    {
     "name": "stderr",
     "output_type": "stream",
     "text": [
      "\u001b[32m\u001b[1m    Updating\u001b[22m\u001b[39m `~/Documents/TMP/MDSJ/lecture2/Lecture2.jl/Project.toml`\n",
      "  \u001b[90m[91a5bcdd] \u001b[39m\u001b[92m+ Plots v1.39.0\u001b[39m\n",
      "\u001b[32m\u001b[1m    Updating\u001b[22m\u001b[39m `~/Documents/TMP/MDSJ/lecture2/Lecture2.jl/Manifest.toml`\n",
      " "
     ]
    },
    {
     "name": "stderr",
     "output_type": "stream",
     "text": [
      " \u001b[90m[d1d4a3ce] \u001b[39m\u001b[92m+ BitFlags v0.1.7\u001b[39m\n",
      "  \u001b[90m[944b1d66] \u001b[39m\u001b[92m+ CodecZlib v0.7.3\u001b[39m\n",
      "  \u001b[90m[35d6a980] \u001b[39m\u001b[92m+ ColorSchemes v3.24.0\u001b[39m\n",
      "  \u001b[90m[3da002f7] \u001b[39m\u001b[92m+ ColorTypes v0.11.4\u001b[39m\n",
      "  \u001b[90m[c3611d14] \u001b[39m\u001b[92m+ ColorVectorSpace v0.10.0\u001b[39m\n",
      "  \u001b[90m[5ae59095] \u001b[39m\u001b[92m+ Colors v0.12.10\u001b[39m\n",
      "  \u001b[90m[f0e56b4a] \u001b[39m\u001b[92m+ ConcurrentUtilities v2.2.1\u001b[39m\n",
      "  \u001b[90m[d38c429a] \u001b[39m\u001b[92m+ Contour v0.6.2\u001b[39m\n",
      "  \u001b[90m[460bff9d] \u001b[39m\u001b[92m+ ExceptionUnwrapping v0.1.9\u001b[39m\n",
      "  \u001b[90m[c87230d0] \u001b[39m\u001b[92m+ FFMPEG v0.4.1\u001b[39m\n",
      "  \u001b[90m[53c48c17] \u001b[39m\u001b[92m+ FixedPointNumbers v0.8.4\u001b[39m\n",
      "  \u001b[90m[28b8d3ca] \u001b[39m\u001b[92m+ GR v0.72.10\u001b[39m\n",
      "  \u001b[90m[42e2da0e] \u001b[39m\u001b[92m+ Grisu v1.0.2\u001b[39m\n",
      "  \u001b[90m[cd3eb016] \u001b[39m\u001b[92m+ HTTP v1.10.0\u001b[39m\n",
      "  \u001b[90m[1019f520] \u001b[39m\u001b[92m+ JLFzf v0.1.6\u001b[39m\n",
      "  \u001b[90m[e6f89c97] \u001b[39m\u001b[92m+ LoggingExtras v1.0.3\u001b[39m\n",
      "  \u001b[90m[739be429] \u001b[39m\u001b[92m+ MbedTLS v1.1.7\u001b[39m\n",
      "  \u001b[90m[442fdcdd] \u001b[39m\u001b[92m+ Measures v0.3.2\u001b[39m\n",
      "  \u001b[90m[4d8831e6] \u001b[39m\u001b[92m+ OpenSSL v1.4.1\u001b[39m\n",
      "  \u001b[90m[b98c9c47] \u001b[39m\u001b[92m+ Pipe v1.3.0\u001b[39m\n",
      "  \u001b[90m[ccf2f8ad] \u001b[39m\u001b[92m+ PlotThemes v3.1.0\u001b[39m\n",
      "  \u001b[90m[995b91a9] \u001b[39m\u001b[92m+ PlotUtils v1.3.5\u001b[39m\n",
      "  \u001b[90m[91a5bcdd] \u001b[39m\u001b[92m+ Plots v1.39.0\u001b[39m\n",
      "  \u001b[90m[01d81517] \u001b[39m\u001b[92m+ RecipesPipeline v0.6.12\u001b[39m\n",
      "  \u001b[90m[05181044] \u001b[39m\u001b[92m+ RelocatableFolders v1.0.1\u001b[39m\n",
      "  \u001b[90m[6c6a2e73] \u001b[39m\u001b[92m+ Scratch v1.2.0\u001b[39m\n",
      "  \u001b[90m[992d4aef] \u001b[39m\u001b[92m+ Showoff v1.0.3\u001b[39m\n",
      "  \u001b[90m[777ac1f9] \u001b[39m\u001b[92m+ SimpleBufferStream v1.1.0\u001b[39m\n",
      "  \u001b[90m[62fd8b95] \u001b[39m\u001b[92m+ TensorCore v0.1.1\u001b[39m\n",
      "  \u001b[90m[3bb67fe8] \u001b[39m\u001b[92m+ TranscodingStreams v0.10.1\u001b[39m\n",
      "  \u001b[90m[1cfade01] \u001b[39m\u001b[92m+ UnicodeFun v0.4.1\u001b[39m\n",
      "  \u001b[90m[45397f5d] \u001b[39m\u001b[92m+ UnitfulLatexify v1.6.3\u001b[39m\n",
      "  \u001b[90m[41fe7b60] \u001b[39m\u001b[92m+ Unzip v0.2.0\u001b[39m\n",
      "  \u001b[90m[6e34b625] \u001b[39m\u001b[92m+ Bzip2_jll v1.0.8+0\u001b[39m\n",
      "  \u001b[90m[83423d85] \u001b[39m\u001b[92m+ Cairo_jll v1.16.1+1\u001b[39m\n",
      "  \u001b[90m[2702e6a9] \u001b[39m\u001b[92m+ EpollShim_jll v0.0.20230411+0\u001b[39m\n",
      "  \u001b[90m[2e619515] \u001b[39m\u001b[92m+ Expat_jll v2.5.0+0\u001b[39m\n",
      "\u001b[32m⌃\u001b[39m \u001b[90m[b22a6f82] \u001b[39m\u001b[92m+ FFMPEG_jll v4.4.2+2\u001b[39m\n",
      "  \u001b[90m[a3f928ae] \u001b[39m\u001b[92m+ Fontconfig_jll v2.13.93+0\u001b[39m\n",
      "  \u001b[90m[d7e528f0] \u001b[39m\u001b[92m+ FreeType2_jll v2.13.1+0\u001b[39m\n",
      "  \u001b[90m[559328eb] \u001b[39m\u001b[92m+ FriBidi_jll v1.0.10+0\u001b[39m\n",
      "  \u001b[90m[0656b61e] \u001b[39m\u001b[92m+ GLFW_jll v3.3.8+0\u001b[39m\n",
      "  \u001b[90m[d2c73de3] \u001b[39m\u001b[92m+ GR_jll v0.72.10+0\u001b[39m\n",
      "  \u001b[90m[78b55507] \u001b[39m\u001b[92m+ Gettext_jll v0.21.0+0\u001b[39m\n",
      "  \u001b[90m[7746bdde] \u001b[39m\u001b[92m+ Glib_jll v2.76.5+0\u001b[39m\n",
      "  \u001b[90m[3b182d85] \u001b[39m\u001b[92m+ Graphite2_jll v1.3.14+0\u001b[39m\n",
      "  \u001b[90m[2e76f6c2] \u001b[39m\u001b[92m+ HarfBuzz_jll v2.8.1+1\u001b[39m\n",
      "  \u001b[90m[aacddb02] \u001b[39m\u001b[92m+ JpegTurbo_jll v2.1.91+0\u001b[39m\n",
      "  \u001b[90m[c1c5ebd0] \u001b[39m\u001b[92m+ LAME_jll v3.100.1+0\u001b[39m\n",
      "  \u001b[90m[88015f11] \u001b[39m\u001b[92m+ LERC_jll v3.0.0+1\u001b[39m\n",
      "  \u001b[90m[1d63c593] \u001b[39m\u001b[92m+ LLVMOpenMP_jll v15.0.4+0\u001b[39m\n",
      "  \u001b[90m[dd4b983a] \u001b[39m\u001b[92m+ LZO_jll v2.10.1+0\u001b[39m\n",
      "\u001b[33m⌅\u001b[39m \u001b[90m[e9f186c6] \u001b[39m\u001b[92m+ Libffi_jll v3.2.2+1\u001b[39m\n",
      "  \u001b[90m[d4300ac3] \u001b[39m\u001b[92m+ Libgcrypt_jll v1.8.7+0\u001b[39m\n",
      "  \u001b[90m[7e76a0d4] \u001b[39m\u001b[92m+ Libglvnd_jll v1.6.0+0\u001b[39m\n",
      "  \u001b[90m[7add5ba3] \u001b[39m\u001b[92m+ Libgpg_error_jll v1.42.0+0\u001b[39m\n",
      "  \u001b[90m[94ce4f54] \u001b[39m\u001b[92m+ Libiconv_jll v1.17.0+0\u001b[39m\n",
      "  \u001b[90m[4b2f31a3] \u001b[39m\u001b[92m+ Libmount_jll v2.35.0+0\u001b[39m\n",
      "  \u001b[90m[89763e89] \u001b[39m\u001b[92m+ Libtiff_jll v4.5.1+1\u001b[39m\n",
      "  \u001b[90m[38a345b3] \u001b[39m\u001b[92m+ Libuuid_jll v2.36.0+0\u001b[39m\n",
      "  \u001b[90m[e7412a2a] \u001b[39m\u001b[92m+ Ogg_jll v1.3.5+1\u001b[39m\n",
      "\u001b[33m⌅\u001b[39m \u001b[90m[458c3c95] \u001b[39m\u001b[92m+ OpenSSL_jll v1.1.23+0\u001b[39m\n",
      "  \u001b[90m[91d4177d] \u001b[39m\u001b[92m+ Opus_jll v1.3.2+0\u001b[39m\n",
      "  \u001b[90m[30392449] \u001b[39m\u001b[92m+ Pixman_jll v0.42.2+0\u001b[39m\n",
      "  \u001b[90m[c0090381] \u001b[39m\u001b[92m+ Qt6Base_jll v6.5.2+2\u001b[39m\n",
      "  \u001b[90m[a44049a8] \u001b[39m\u001b[92m+ Vulkan_Loader_jll v1.3.243+0\u001b[39m\n",
      "  \u001b[90m[a2964d1f] \u001b[39m\u001b[92m+ Wayland_jll v1.21.0+1\u001b[39m\n",
      "  \u001b[90m[2381bf8a] \u001b[39m\u001b[92m+ Wayland_protocols_jll v1.25.0+0\u001b[39m\n",
      "  \u001b[90m[02c8fc9c] \u001b[39m\u001b[92m+ XML2_jll v2.11.5+0\u001b[39m\n",
      "  \u001b[90m[aed1982a] \u001b[39m\u001b[92m+ XSLT_jll v1.1.34+0\u001b[39m\n",
      "  \u001b[90m[ffd25f8a] \u001b[39m\u001b[92m+ XZ_jll v5.4.4+0\u001b[39m\n",
      "  \u001b[90m[f67eecfb] \u001b[39m\u001b[92m+ Xorg_libICE_jll v1.0.10+1\u001b[39m\n",
      "  \u001b[90m[c834827a] \u001b[39m\u001b[92m+ Xorg_libSM_jll v1.2.3+0\u001b[39m\n",
      "  \u001b[90m[4f6342f7] \u001b[39m\u001b[92m+ Xorg_libX11_jll v1.8.6+0\u001b[39m\n",
      "  \u001b[90m[0c0b7dd1] \u001b[39m\u001b[92m+ Xorg_libXau_jll v1.0.11+0\u001b[39m\n",
      "  \u001b[90m[935fb764] \u001b[39m\u001b[92m+ Xorg_libXcursor_jll v1.2.0+4\u001b[39m\n",
      "  \u001b[90m[a3789734] \u001b[39m\u001b[92m+ Xorg_libXdmcp_jll v1.1.4+0\u001b[39m\n",
      "  \u001b[90m[1082639a] \u001b[39m\u001b[92m+ Xorg_libXext_jll v1.3.4+4\u001b[39m\n",
      "  \u001b[90m[d091e8ba] \u001b[39m\u001b[92m+ Xorg_libXfixes_jll v5.0.3+4\u001b[39m\n",
      "  \u001b[90m[a51aa0fd] \u001b[39m\u001b[92m+ Xorg_libXi_jll v1.7.10+4\u001b[39m\n",
      "  \u001b[90m[d1454406] \u001b[39m\u001b[92m+ Xorg_libXinerama_jll v1.1.4+4\u001b[39m\n",
      "  \u001b[90m[ec84b674] \u001b[39m\u001b[92m+ Xorg_libXrandr_jll v1.5.2+4\u001b[39m\n",
      "  \u001b[90m[ea2f1a96] \u001b[39m\u001b[92m+ Xorg_libXrender_jll v0.9.10+4\u001b[39m\n",
      "  \u001b[90m[14d82f49] \u001b[39m\u001b[92m+ Xorg_libpthread_stubs_jll v0.1.1+0\u001b[39m\n",
      "  \u001b[90m[c7cfdc94] \u001b[39m\u001b[92m+ Xorg_libxcb_jll v1.15.0+0\u001b[39m\n",
      "  \u001b[90m[cc61e674] \u001b[39m\u001b[92m+ Xorg_libxkbfile_jll v1.1.2+0\u001b[39m\n",
      "  \u001b[90m[e920d4aa] \u001b[39m\u001b[92m+ Xorg_xcb_util_cursor_jll v0.1.4+0\u001b[39m\n",
      "  \u001b[90m[12413925] \u001b[39m\u001b[92m+ Xorg_xcb_util_image_jll v0.4.0+1\u001b[39m\n",
      "  \u001b[90m[2def613f] \u001b[39m\u001b[92m+ Xorg_xcb_util_jll v0.4.0+1\u001b[39m\n",
      "  \u001b[90m[975044d2] \u001b[39m\u001b[92m+ Xorg_xcb_util_keysyms_jll v0.4.0+1\u001b[39m\n",
      "  \u001b[90m[0d47668e] \u001b[39m\u001b[92m+ Xorg_xcb_util_renderutil_jll v0.3.9+1\u001b[39m\n",
      "  \u001b[90m[c22f9ab0] \u001b[39m\u001b[92m+ Xorg_xcb_util_wm_jll v0.4.1+1\u001b[39m\n",
      "  \u001b[90m[35661453] \u001b[39m\u001b[92m+ Xorg_xkbcomp_jll v1.4.6+0\u001b[39m\n",
      "  \u001b[90m[33bec58e] \u001b[39m\u001b[92m+ Xorg_xkeyboard_config_jll v2.39.0+0\u001b[39m\n",
      "  \u001b[90m[c5fb5394] \u001b[39m\u001b[92m+ Xorg_xtrans_jll v1.5.0+0\u001b[39m\n",
      "  \u001b[90m[3161d3a3] \u001b[39m\u001b[92m+ Zstd_jll v1.5.5+0\u001b[39m\n",
      "  \u001b[90m[35ca27e7] \u001b[39m\u001b[92m+ eudev_jll v3.2.9+0\u001b[39m\n",
      "  \u001b[90m[214eeab7] \u001b[39m\u001b[92m+ fzf_jll v0.35.1+0\u001b[39m\n",
      "  \u001b[90m[1a1c6b14] \u001b[39m\u001b[92m+ gperf_jll v3.1.1+0\u001b[39m\n",
      "  \u001b[90m[a4ae2306] \u001b[39m\u001b[92m+ libaom_jll v3.4.0+0\u001b[39m\n",
      "  \u001b[90m[0ac62f75] \u001b[39m\u001b[92m+ libass_jll v0.15.1+0\u001b[39m\n",
      "  \u001b[90m[2db6ffa8] \u001b[39m\u001b[92m+ libevdev_jll v1.11.0+0\u001b[39m\n",
      "  \u001b[90m[f638f0a6] \u001b[39m\u001b[92m+ libfdk_aac_jll v2.0.2+0\u001b[39m\n",
      "  \u001b[90m[36db933b] \u001b[39m\u001b[92m+ libinput_jll v1.18.0+0\u001b[39m\n",
      "  \u001b[90m[b53b4c65] \u001b[39m\u001b[92m+ libpng_jll v1.6.38+0\u001b[39m\n",
      "  \u001b[90m[f27f6e37] \u001b[39m\u001b[92m+ libvorbis_jll v1.3.7+1\u001b[39m\n",
      "  \u001b[90m[009596ad] \u001b[39m\u001b[92m+ mtdev_jll v1.1.6+0\u001b[39m\n",
      "  \u001b[90m[1270edf5] \u001b[39m\u001b[92m+ x264_jll v2021.5.5+0\u001b[39m\n",
      "  \u001b[90m[dfaa095f] \u001b[39m\u001b[92m+ x265_jll v3.5.0+0\u001b[39m\n",
      "  \u001b[90m[d8fb68d0] \u001b[39m\u001b[92m+ xkbcommon_jll v1.4.1+1\u001b[39m\n",
      "  \u001b[90m[efcefdf7] \u001b[39m\u001b[92m+ PCRE2_jll v10.42.0+0\u001b[39m\n",
      "\u001b[36m\u001b[1m        Info\u001b[22m\u001b[39m Packages marked with \u001b[32m⌃\u001b[39m and \u001b[33m⌅\u001b[39m have new versions available, but those with \u001b[33m⌅\u001b[39m are restricted by compatibility constraints from upgrading. To see why use `status --outdated -m`\n"
     ]
    },
    {
     "name": "stderr",
     "output_type": "stream",
     "text": [
      "\u001b[32m\u001b[1mPrecompiling\u001b[22m\u001b[39m project...\n"
     ]
    },
    {
     "name": "stderr",
     "output_type": "stream",
     "text": [
      "\u001b[32m  ✓ \u001b[39m\u001b[90mPipe\u001b[39m\n"
     ]
    },
    {
     "name": "stderr",
     "output_type": "stream",
     "text": [
      "\u001b[32m  ✓ \u001b[39m\u001b[90mContour\u001b[39m\n",
      "\u001b[32m  ✓ \u001b[39m\u001b[90mMeasures\u001b[39m\n",
      "\u001b[32m  ✓ \u001b[39m\u001b[90mTensorCore\u001b[39m\n"
     ]
    },
    {
     "name": "stderr",
     "output_type": "stream",
     "text": [
      "\u001b[32m  ✓ \u001b[39m\u001b[90mSimpleBufferStream\u001b[39m\n"
     ]
    },
    {
     "name": "stderr",
     "output_type": "stream",
     "text": [
      "\u001b[32m  ✓ \u001b[39m\u001b[90mConcurrentUtilities\u001b[39m\n"
     ]
    },
    {
     "name": "stderr",
     "output_type": "stream",
     "text": [
      "\u001b[32m  ✓ \u001b[39m\u001b[90mUnzip\u001b[39m\n"
     ]
    },
    {
     "name": "stderr",
     "output_type": "stream",
     "text": [
      "\u001b[32m  ✓ \u001b[39m\u001b[90mGrisu\u001b[39m\n",
      "\u001b[32m  ✓ \u001b[39m\u001b[90mExceptionUnwrapping\u001b[39m\n"
     ]
    },
    {
     "name": "stderr",
     "output_type": "stream",
     "text": [
      "\u001b[32m  ✓ \u001b[39m\u001b[90mBitFlags\u001b[39m\n",
      "\u001b[32m  ✓ \u001b[39m\u001b[90mXorg_libICE_jll\u001b[39m\n"
     ]
    },
    {
     "name": "stderr",
     "output_type": "stream",
     "text": [
      "\u001b[32m  ✓ \u001b[39m\u001b[90mScratch\u001b[39m\n"
     ]
    },
    {
     "name": "stderr",
     "output_type": "stream",
     "text": [
      "\u001b[32m  ✓ \u001b[39m\u001b[90mLoggingExtras\u001b[39m\n"
     ]
    },
    {
     "name": "stderr",
     "output_type": "stream",
     "text": [
      "\u001b[32m  ✓ \u001b[39m\u001b[90mTranscodingStreams\u001b[39m\n"
     ]
    },
    {
     "name": "stderr",
     "output_type": "stream",
     "text": [
      "\u001b[32m  ✓ \u001b[39m\u001b[90mUnicodeFun\u001b[39m\n",
      "\u001b[32m  ✓ \u001b[39m\u001b[90mGraphite2_jll\u001b[39m\n"
     ]
    },
    {
     "name": "stderr",
     "output_type": "stream",
     "text": [
      "\u001b[32m  ✓ \u001b[39m\u001b[90mOpenSSL_jll\u001b[39m\n"
     ]
    },
    {
     "name": "stderr",
     "output_type": "stream",
     "text": [
      "\u001b[32m  ✓ \u001b[39m\u001b[90mLibmount_jll\u001b[39m\n"
     ]
    },
    {
     "name": "stderr",
     "output_type": "stream",
     "text": [
      "\u001b[32m  ✓ \u001b[39m\u001b[90mEpollShim_jll\u001b[39m\n"
     ]
    },
    {
     "name": "stderr",
     "output_type": "stream",
     "text": [
      "\u001b[32m  ✓ \u001b[39m\u001b[90mBzip2_jll\u001b[39m\n"
     ]
    },
    {
     "name": "stderr",
     "output_type": "stream",
     "text": [
      "\u001b[32m  ✓ \u001b[39m\u001b[90mXorg_libXau_jll\u001b[39m\n"
     ]
    },
    {
     "name": "stderr",
     "output_type": "stream",
     "text": [
      "\u001b[32m  ✓ \u001b[39m\u001b[90mLLVMOpenMP_jll\u001b[39m\n"
     ]
    },
    {
     "name": "stderr",
     "output_type": "stream",
     "text": [
      "\u001b[32m  ✓ \u001b[39m\u001b[90mMbedTLS\u001b[39m\n"
     ]
    },
    {
     "name": "stderr",
     "output_type": "stream",
     "text": [
      "\u001b[32m  ✓ \u001b[39m\u001b[90mlibfdk_aac_jll\u001b[39m\n",
      "\u001b[32m  ✓ \u001b[39m\u001b[90mlibpng_jll\u001b[39m\n"
     ]
    },
    {
     "name": "stderr",
     "output_type": "stream",
     "text": [
      "\u001b[32m  ✓ \u001b[39m\u001b[90mLAME_jll\u001b[39m\n"
     ]
    },
    {
     "name": "stderr",
     "output_type": "stream",
     "text": [
      "\u001b[32m  ✓ \u001b[39m\u001b[90mfzf_jll\u001b[39m\n"
     ]
    },
    {
     "name": "stderr",
     "output_type": "stream",
     "text": [
      "\u001b[32m  ✓ \u001b[39m\u001b[90mLERC_jll\u001b[39m\n",
      "\u001b[32m  ✓ \u001b[39m\u001b[90mJpegTurbo_jll\u001b[39m\n"
     ]
    },
    {
     "name": "stderr",
     "output_type": "stream",
     "text": [
      "\u001b[32m  ✓ \u001b[39m\u001b[90mmtdev_jll\u001b[39m\n"
     ]
    },
    {
     "name": "stderr",
     "output_type": "stream",
     "text": [
      "\u001b[32m  ✓ \u001b[39m\u001b[90mXZ_jll\u001b[39m\n",
      "\u001b[32m  ✓ \u001b[39m\u001b[90mgperf_jll\u001b[39m\n",
      "\u001b[32m  ✓ \u001b[39m\u001b[90mOgg_jll\u001b[39m\n"
     ]
    },
    {
     "name": "stderr",
     "output_type": "stream",
     "text": [
      "\u001b[32m  ✓ \u001b[39m\u001b[90mXorg_libXdmcp_jll\u001b[39m\n",
      "\u001b[32m  ✓ \u001b[39m\u001b[90mUnitfulLatexify\u001b[39m\n"
     ]
    },
    {
     "name": "stderr",
     "output_type": "stream",
     "text": [
      "\u001b[32m  ✓ \u001b[39m\u001b[90mx264_jll\u001b[39m\n",
      "\u001b[32m  ✓ \u001b[39m\u001b[90mx265_jll\u001b[39m\n"
     ]
    },
    {
     "name": "stderr",
     "output_type": "stream",
     "text": [
      "\u001b[32m  ✓ \u001b[39m\u001b[90mLZO_jll\u001b[39m\n"
     ]
    },
    {
     "name": "stderr",
     "output_type": "stream",
     "text": [
      "\u001b[32m  ✓ \u001b[39m\u001b[90mExpat_jll\u001b[39m\n",
      "\u001b[32m  ✓ \u001b[39m\u001b[90mlibaom_jll\u001b[39m\n"
     ]
    },
    {
     "name": "stderr",
     "output_type": "stream",
     "text": [
      "\u001b[32m  ✓ \u001b[39m\u001b[90mZstd_jll\u001b[39m\n"
     ]
    },
    {
     "name": "stderr",
     "output_type": "stream",
     "text": [
      "\u001b[32m  ✓ \u001b[39m\u001b[90mOpus_jll\u001b[39m\n",
      "\u001b[32m  ✓ \u001b[39m\u001b[90mXorg_xtrans_jll\u001b[39m\n"
     ]
    },
    {
     "name": "stderr",
     "output_type": "stream",
     "text": [
      "\u001b[32m  ✓ \u001b[39m\u001b[90mLibffi_jll\u001b[39m\n"
     ]
    },
    {
     "name": "stderr",
     "output_type": "stream",
     "text": [
      "\u001b[32m  ✓ \u001b[39m\u001b[90mlibevdev_jll\u001b[39m\n",
      "\u001b[32m  ✓ \u001b[39m\u001b[90mLibiconv_jll\u001b[39m\n"
     ]
    },
    {
     "name": "stderr",
     "output_type": "stream",
     "text": [
      "\u001b[32m  ✓ \u001b[39m\u001b[90mFixedPointNumbers\u001b[39m\n"
     ]
    },
    {
     "name": "stderr",
     "output_type": "stream",
     "text": [
      "\u001b[32m  ✓ \u001b[39m\u001b[90mLibgpg_error_jll\u001b[39m\n",
      "\u001b[32m  ✓ \u001b[39m\u001b[90mXorg_libpthread_stubs_jll\u001b[39m\n",
      "\u001b[32m  ✓ \u001b[39m\u001b[90mWayland_protocols_jll\u001b[39m\n"
     ]
    },
    {
     "name": "stderr",
     "output_type": "stream",
     "text": [
      "\u001b[32m  ✓ \u001b[39m\u001b[90mShowoff\u001b[39m\n"
     ]
    },
    {
     "name": "stderr",
     "output_type": "stream",
     "text": [
      "\u001b[32m  ✓ \u001b[39m\u001b[90mFriBidi_jll\u001b[39m\n"
     ]
    },
    {
     "name": "stderr",
     "output_type": "stream",
     "text": [
      "\u001b[32m  ✓ \u001b[39m\u001b[90mRelocatableFolders\u001b[39m\n"
     ]
    },
    {
     "name": "stderr",
     "output_type": "stream",
     "text": [
      "\u001b[32m  ✓ \u001b[39m\u001b[90mLibuuid_jll\u001b[39m\n",
      "\u001b[32m  ✓ \u001b[39m\u001b[90mTranscodingStreams → TestExt\u001b[39m\n"
     ]
    },
    {
     "name": "stderr",
     "output_type": "stream",
     "text": [
      "\u001b[32m  ✓ \u001b[39m\u001b[90mFreeType2_jll\u001b[39m\n"
     ]
    },
    {
     "name": "stderr",
     "output_type": "stream",
     "text": [
      "\u001b[32m  ✓ \u001b[39m\u001b[90mJLFzf\u001b[39m\n"
     ]
    },
    {
     "name": "stderr",
     "output_type": "stream",
     "text": [
      "\u001b[32m  ✓ \u001b[39m\u001b[90meudev_jll\u001b[39m\n"
     ]
    },
    {
     "name": "stderr",
     "output_type": "stream",
     "text": [
      "\u001b[32m  ✓ \u001b[39m\u001b[90mPixman_jll\u001b[39m\n",
      "\u001b[32m  ✓ \u001b[39m\u001b[90mLibtiff_jll\u001b[39m\n"
     ]
    },
    {
     "name": "stderr",
     "output_type": "stream",
     "text": [
      "\u001b[32m  ✓ \u001b[39m\u001b[90mlibvorbis_jll\u001b[39m\n"
     ]
    },
    {
     "name": "stderr",
     "output_type": "stream",
     "text": [
      "\u001b[32m  ✓ \u001b[39m\u001b[90mCodecZlib\u001b[39m\n",
      "\u001b[32m  ✓ \u001b[39m\u001b[90mXorg_libSM_jll\u001b[39m\n"
     ]
    },
    {
     "name": "stderr",
     "output_type": "stream",
     "text": [
      "\u001b[32m  ✓ \u001b[39m\u001b[90mLibgcrypt_jll\u001b[39m\n",
      "\u001b[32m  ✓ \u001b[39m\u001b[90mXML2_jll\u001b[39m\n"
     ]
    },
    {
     "name": "stderr",
     "output_type": "stream",
     "text": [
      "\u001b[32m  ✓ \u001b[39m\u001b[90mlibinput_jll\u001b[39m\n"
     ]
    },
    {
     "name": "stderr",
     "output_type": "stream",
     "text": [
      "\u001b[32m  ✓ \u001b[39m\u001b[90mFontconfig_jll\u001b[39m\n"
     ]
    },
    {
     "name": "stderr",
     "output_type": "stream",
     "text": [
      "\u001b[32m  ✓ \u001b[39m\u001b[90mGettext_jll\u001b[39m\n"
     ]
    },
    {
     "name": "stderr",
     "output_type": "stream",
     "text": [
      "\u001b[32m  ✓ \u001b[39m\u001b[90mWayland_jll\u001b[39m\n",
      "\u001b[32m  ✓ \u001b[39m\u001b[90mXSLT_jll\u001b[39m\n"
     ]
    },
    {
     "name": "stderr",
     "output_type": "stream",
     "text": [
      "\u001b[32m  ✓ \u001b[39m\u001b[90mGlib_jll\u001b[39m\n"
     ]
    },
    {
     "name": "stderr",
     "output_type": "stream",
     "text": [
      "\u001b[32m  ✓ \u001b[39m\u001b[90mXorg_libxcb_jll\u001b[39m\n",
      "\u001b[32m  ✓ \u001b[39m\u001b[90mOpenSSL\u001b[39m\n"
     ]
    },
    {
     "name": "stderr",
     "output_type": "stream",
     "text": [
      "\u001b[32m  ✓ \u001b[39m\u001b[90mXorg_xcb_util_jll\u001b[39m\n",
      "\u001b[32m  ✓ \u001b[39m\u001b[90mXorg_libX11_jll\u001b[39m\n"
     ]
    },
    {
     "name": "stderr",
     "output_type": "stream",
     "text": [
      "\u001b[32m  ✓ \u001b[39m\u001b[90mColorTypes\u001b[39m\n"
     ]
    },
    {
     "name": "stderr",
     "output_type": "stream",
     "text": [
      "\u001b[32m  ✓ \u001b[39m\u001b[90mXorg_xcb_util_keysyms_jll\u001b[39m\n"
     ]
    },
    {
     "name": "stderr",
     "output_type": "stream",
     "text": [
      "\u001b[32m  ✓ \u001b[39m\u001b[90mXorg_libXrender_jll\u001b[39m\n"
     ]
    },
    {
     "name": "stderr",
     "output_type": "stream",
     "text": [
      "\u001b[32m  ✓ \u001b[39m\u001b[90mXorg_xcb_util_renderutil_jll\u001b[39m\n"
     ]
    },
    {
     "name": "stderr",
     "output_type": "stream",
     "text": [
      "\u001b[32m  ✓ \u001b[39m\u001b[90mXorg_xcb_util_wm_jll\u001b[39m\n",
      "\u001b[32m  ✓ \u001b[39m\u001b[90mXorg_libXfixes_jll\u001b[39m\n"
     ]
    },
    {
     "name": "stderr",
     "output_type": "stream",
     "text": [
      "\u001b[32m  ✓ \u001b[39m\u001b[90mXorg_libXext_jll\u001b[39m\n",
      "\u001b[32m  ✓ \u001b[39m\u001b[90mXorg_xcb_util_image_jll\u001b[39m\n"
     ]
    },
    {
     "name": "stderr",
     "output_type": "stream",
     "text": [
      "\u001b[32m  ✓ \u001b[39m\u001b[90mXorg_libxkbfile_jll\u001b[39m\n"
     ]
    },
    {
     "name": "stderr",
     "output_type": "stream",
     "text": [
      "\u001b[32m  ✓ \u001b[39m\u001b[90mXorg_libXcursor_jll\u001b[39m\n"
     ]
    },
    {
     "name": "stderr",
     "output_type": "stream",
     "text": [
      "\u001b[32m  ✓ \u001b[39m\u001b[90mLibglvnd_jll\u001b[39m\n"
     ]
    },
    {
     "name": "stderr",
     "output_type": "stream",
     "text": [
      "\u001b[32m  ✓ \u001b[39m\u001b[90mXorg_libXi_jll\u001b[39m\n"
     ]
    },
    {
     "name": "stderr",
     "output_type": "stream",
     "text": [
      "\u001b[32m  ✓ \u001b[39m\u001b[90mXorg_libXinerama_jll\u001b[39m\n"
     ]
    },
    {
     "name": "stderr",
     "output_type": "stream",
     "text": [
      "\u001b[32m  ✓ \u001b[39m\u001b[90mXorg_libXrandr_jll\u001b[39m\n"
     ]
    },
    {
     "name": "stderr",
     "output_type": "stream",
     "text": [
      "\u001b[32m  ✓ \u001b[39m\u001b[90mCairo_jll\u001b[39m\n"
     ]
    },
    {
     "name": "stderr",
     "output_type": "stream",
     "text": [
      "\u001b[32m  ✓ \u001b[39m\u001b[90mXorg_xcb_util_cursor_jll\u001b[39m\n"
     ]
    },
    {
     "name": "stderr",
     "output_type": "stream",
     "text": [
      "\u001b[32m  ✓ \u001b[39m\u001b[90mXorg_xkbcomp_jll\u001b[39m\n"
     ]
    },
    {
     "name": "stderr",
     "output_type": "stream",
     "text": [
      "\u001b[32m  ✓ \u001b[39m\u001b[90mGLFW_jll\u001b[39m\n"
     ]
    },
    {
     "name": "stderr",
     "output_type": "stream",
     "text": [
      "\u001b[32m  ✓ \u001b[39m\u001b[90mHarfBuzz_jll\u001b[39m\n"
     ]
    },
    {
     "name": "stderr",
     "output_type": "stream",
     "text": [
      "\u001b[32m  ✓ \u001b[39m\u001b[90mXorg_xkeyboard_config_jll\u001b[39m\n"
     ]
    },
    {
     "name": "stderr",
     "output_type": "stream",
     "text": [
      "\u001b[32m  ✓ \u001b[39m\u001b[90mlibass_jll\u001b[39m\n"
     ]
    },
    {
     "name": "stderr",
     "output_type": "stream",
     "text": [
      "\u001b[32m  ✓ \u001b[39m\u001b[90mxkbcommon_jll\u001b[39m\n",
      "\u001b[32m  ✓ \u001b[39m\u001b[90mHTTP\u001b[39m\n"
     ]
    },
    {
     "name": "stderr",
     "output_type": "stream",
     "text": [
      "\u001b[32m  ✓ \u001b[39m\u001b[90mVulkan_Loader_jll\u001b[39m\n",
      "\u001b[32m  ✓ \u001b[39m\u001b[90mFFMPEG_jll\u001b[39m\n"
     ]
    },
    {
     "name": "stderr",
     "output_type": "stream",
     "text": [
      "\u001b[32m  ✓ \u001b[39m\u001b[90mFFMPEG\u001b[39m\n"
     ]
    },
    {
     "name": "stderr",
     "output_type": "stream",
     "text": [
      "\u001b[32m  ✓ \u001b[39m\u001b[90mColorVectorSpace\u001b[39m\n"
     ]
    },
    {
     "name": "stderr",
     "output_type": "stream",
     "text": [
      "\u001b[32m  ✓ \u001b[39m\u001b[90mQt6Base_jll\u001b[39m\n"
     ]
    },
    {
     "name": "stderr",
     "output_type": "stream",
     "text": [
      "\u001b[32m  ✓ \u001b[39m\u001b[90mColorVectorSpace → SpecialFunctionsExt\u001b[39m\n"
     ]
    },
    {
     "name": "stderr",
     "output_type": "stream",
     "text": [
      "\u001b[32m  ✓ \u001b[39m\u001b[90mGR_jll\u001b[39m\n"
     ]
    },
    {
     "name": "stderr",
     "output_type": "stream",
     "text": [
      "\u001b[32m  ✓ \u001b[39m\u001b[90mColors\u001b[39m\n"
     ]
    },
    {
     "name": "stderr",
     "output_type": "stream",
     "text": [
      "\u001b[32m  ✓ \u001b[39m\u001b[90mGR\u001b[39m\n"
     ]
    },
    {
     "name": "stderr",
     "output_type": "stream",
     "text": [
      "\u001b[32m  ✓ \u001b[39m\u001b[90mColorSchemes\u001b[39m\n"
     ]
    },
    {
     "name": "stderr",
     "output_type": "stream",
     "text": [
      "\u001b[32m  ✓ \u001b[39m\u001b[90mPlotUtils\u001b[39m\n"
     ]
    },
    {
     "name": "stderr",
     "output_type": "stream",
     "text": [
      "\u001b[32m  ✓ \u001b[39m\u001b[90mPlotThemes\u001b[39m\n"
     ]
    },
    {
     "name": "stderr",
     "output_type": "stream",
     "text": [
      "\u001b[32m  ✓ \u001b[39m\u001b[90mRecipesPipeline\u001b[39m\n"
     ]
    },
    {
     "name": "stderr",
     "output_type": "stream",
     "text": [
      "\u001b[32m  ✓ \u001b[39mPlots\n"
     ]
    },
    {
     "name": "stderr",
     "output_type": "stream",
     "text": [
      "\u001b[32m  ✓ \u001b[39m\u001b[90mPlots → UnitfulExt\u001b[39m\n",
      "  113 dependencies successfully precompiled in 128 seconds. 208 already precompiled.\n"
     ]
    }
   ],
   "source": [
    "using Pkg\n",
    "Pkg.activate(\"Lecture2.jl\")\n",
    "Pkg.add(\"DifferentialEquations\")\n",
    "Pkg.add(\"Plots\")"
   ]
  },
  {
   "cell_type": "code",
   "execution_count": 4,
   "metadata": {},
   "outputs": [],
   "source": [
    "using DifferentialEquations\n",
    "using Plots"
   ]
  },
  {
   "cell_type": "code",
   "execution_count": 66,
   "metadata": {},
   "outputs": [
    {
     "data": {
      "text/plain": [
       "euler_solver (generic function with 2 methods)"
      ]
     },
     "metadata": {},
     "output_type": "display_data"
    }
   ],
   "source": [
    "function f(x,params)\n",
    "    a, b = params \n",
    "    return a*x.^b\n",
    "end\n",
    "\n",
    "function euler_step(dx, x_current, params, dt)\n",
    "    return x_current + dt*dx(x_current,params)\n",
    "end \n",
    "\n",
    "function euler_step_modified(dx, x_current, params, dt)\n",
    "    x_tilde = x_current + dt*dx(x_current,params)\n",
    "    return x_current + dt*0.5*(dx(x_tilde, params) + dx(x_current,params))\n",
    "end \n",
    "\n",
    "function euler_solver(dx, initial_conditions, params, dt, T_final,modified=false)\n",
    "    N = trunc(Int, T_final/dt)\n",
    "    result = zeros((N,length(initial_conditions)))\n",
    "    result[1,:] = initial_conditions\n",
    "    for i in 2:N\n",
    "        if modified\n",
    "            result[i,:] = euler_step_modified(dx, result[i-1,:], params, dt)\n",
    "        else\n",
    "            result[i,:] = euler_step(dx, result[i-1,:], params, dt)\n",
    "        end\n",
    "    end \n",
    "    return result\n",
    "end"
   ]
  },
  {
   "cell_type": "code",
   "execution_count": 67,
   "metadata": {},
   "outputs": [
    {
     "data": {
      "text/plain": [
       "100×2 Matrix{Float64}:\n",
       " 1.0       -1.0\n",
       " 0.99005   -0.99005\n",
       " 0.980199  -0.980199\n",
       " 0.970446  -0.970446\n",
       " 0.96079   -0.96079\n",
       " 0.95123   -0.95123\n",
       " 0.941765  -0.941765\n",
       " 0.932395  -0.932395\n",
       " 0.923118  -0.923118\n",
       " 0.913933  -0.913933\n",
       " ⋮         \n",
       " 0.40253   -0.40253\n",
       " 0.398525  -0.398525\n",
       " 0.39456   -0.39456\n",
       " 0.390634  -0.390634\n",
       " 0.386747  -0.386747\n",
       " 0.382899  -0.382899\n",
       " 0.379089  -0.379089\n",
       " 0.375317  -0.375317\n",
       " 0.371583  -0.371583"
      ]
     },
     "metadata": {},
     "output_type": "display_data"
    }
   ],
   "source": [
    "solution = euler_solver(f,\n",
    "                        [1.0, -1.0], \n",
    "                        (-1.0, 1.0), \n",
    "                        0.01, \n",
    "                        1.)\n",
    "solution2 = euler_solver(f,\n",
    "                        [1.0, -1.0], \n",
    "                        (-1.0, 1.0), \n",
    "                        0.01, \n",
    "                        1.,\n",
    "                        true)\n"
   ]
  },
  {
   "cell_type": "code",
   "execution_count": 69,
   "metadata": {},
   "outputs": [
    {
     "data": {
      "image/png": "[encoded data removed]",
      "image/svg+xml": [
       "<?xml version=\"1.0\" encoding=\"utf-8\"?>\n",
       "<svg xmlns=\"http://www.w3.org/2000/svg\" xmlns:xlink=\"http://www.w3.org/1999/xlink\" width=\"600\" height=\"400\" viewBox=\"0 0 2400 1600\">\n",
       "<defs>\n",
       "  <clipPath id=\"clip020\">\n",
       "    <rect x=\"0\" y=\"0\" width=\"2400\" height=\"1600\"/>\n",
       "  </clipPath>\n",
       "</defs>\n",
       "<path clip-path=\"url(#clip020)\" d=\"M0 1600 L2400 1600 L2400 0 L0 0  Z\" fill=\"#ffffff\" fill-rule=\"evenodd\" fill-opacity=\"1\"/>\n",
       "<defs>\n",
       "  <clipPath id=\"clip021\">\n",
       "    <rect x=\"480\" y=\"0\" width=\"1681\" height=\"1600\"/>\n",
       "  </clipPath>\n",
       "</defs>\n",
       "<path clip-path=\"url(#clip020)\" d=\"M193.936 1486.45 L2352.76 1486.45 L2352.76 47.2441 L193.936 47.2441  Z\" fill=\"#ffffff\" fill-rule=\"evenodd\" fill-opacity=\"1\"/>\n",
       "<defs>\n",
       "  <clipPath id=\"clip022\">\n",
       "    <rect x=\"193\" y=\"47\" width=\"2160\" height=\"1440\"/>\n",
       "  </clipPath>\n",
       "</defs>\n",
       "<polyline clip-path=\"url(#clip022)\" style=\"stroke:#000000; stroke-linecap:round; stroke-linejoin:round; stroke-width:2; stroke-opacity:0.1; fill:none\" points=\"234.463,1486.45 234.463,47.2441 \"/>\n",
       "<polyline clip-path=\"url(#clip022)\" style=\"stroke:#000000; stroke-linecap:round; stroke-linejoin:round; stroke-width:2; stroke-opacity:0.1; fill:none\" points=\"748.761,1486.45 748.761,47.2441 \"/>\n",
       "<polyline clip-path=\"url(#clip022)\" style=\"stroke:#000000; stroke-linecap:round; stroke-linejoin:round; stroke-width:2; stroke-opacity:0.1; fill:none\" points=\"1263.06,1486.45 1263.06,47.2441 \"/>\n",
       "<polyline clip-path=\"url(#clip022)\" style=\"stroke:#000000; stroke-linecap:round; stroke-linejoin:round; stroke-width:2; stroke-opacity:0.1; fill:none\" points=\"1777.36,1486.45 1777.36,47.2441 \"/>\n",
       "<polyline clip-path=\"url(#clip022)\" style=\"stroke:#000000; stroke-linecap:round; stroke-linejoin:round; stroke-width:2; stroke-opacity:0.1; fill:none\" points=\"2291.66,1486.45 2291.66,47.2441 \"/>\n",
       "<polyline clip-path=\"url(#clip020)\" style=\"stroke:#000000; stroke-linecap:round; stroke-linejoin:round; stroke-width:4; stroke-opacity:1; fill:none\" points=\"193.936,1486.45 2352.76,1486.45 \"/>\n",
       "<polyline clip-path=\"url(#clip020)\" style=\"stroke:#000000; stroke-linecap:round; stroke-linejoin:round; stroke-width:4; stroke-opacity:1; fill:none\" points=\"234.463,1486.45 234.463,1467.55 \"/>\n",
       "<polyline clip-path=\"url(#clip020)\" style=\"stroke:#000000; stroke-linecap:round; stroke-linejoin:round; stroke-width:4; stroke-opacity:1; fill:none\" points=\"748.761,1486.45 748.761,1467.55 \"/>\n",
       "<polyline clip-path=\"url(#clip020)\" style=\"stroke:#000000; stroke-linecap:round; stroke-linejoin:round; stroke-width:4; stroke-opacity:1; fill:none\" points=\"1263.06,1486.45 1263.06,1467.55 \"/>\n",
       "<polyline clip-path=\"url(#clip020)\" style=\"stroke:#000000; stroke-linecap:round; stroke-linejoin:round; stroke-width:4; stroke-opacity:1; fill:none\" points=\"1777.36,1486.45 1777.36,1467.55 \"/>\n",
       "<polyline clip-path=\"url(#clip020)\" style=\"stroke:#000000; stroke-linecap:round; stroke-linejoin:round; stroke-width:4; stroke-opacity:1; fill:none\" points=\"2291.66,1486.45 2291.66,1467.55 \"/>\n",
       "<path clip-path=\"url(#clip020)\" d=\"M196.766 1517.37 Q193.155 1517.37 191.326 1520.93 Q189.521 1524.47 189.521 1531.6 Q189.521 1538.71 191.326 1542.27 Q193.155 1545.82 196.766 1545.82 Q200.4 1545.82 202.206 1542.27 Q204.035 1538.71 204.035 1531.6 Q204.035 1524.47 202.206 1520.93 Q200.4 1517.37 196.766 1517.37 M196.766 1513.66 Q202.576 1513.66 205.632 1518.27 Q208.711 1522.85 208.711 1531.6 Q208.711 1540.33 205.632 1544.94 Q202.576 1549.52 196.766 1549.52 Q190.956 1549.52 187.877 1544.94 Q184.822 1540.33 184.822 1531.6 Q184.822 1522.85 187.877 1518.27 Q190.956 1513.66 196.766 1513.66 Z\" fill=\"#000000\" fill-rule=\"nonzero\" fill-opacity=\"1\" /><path clip-path=\"url(#clip020)\" d=\"M216.928 1542.97 L221.812 1542.97 L221.812 1548.85 L216.928 1548.85 L216.928 1542.97 Z\" fill=\"#000000\" fill-rule=\"nonzero\" fill-opacity=\"1\" /><path clip-path=\"url(#clip020)\" d=\"M241.997 1517.37 Q238.386 1517.37 236.558 1520.93 Q234.752 1524.47 234.752 1531.6 Q234.752 1538.71 236.558 1542.27 Q238.386 1545.82 241.997 1545.82 Q245.632 1545.82 247.437 1542.27 Q249.266 1538.71 249.266 1531.6 Q249.266 1524.47 247.437 1520.93 Q245.632 1517.37 241.997 1517.37 M241.997 1513.66 Q247.808 1513.66 250.863 1518.27 Q253.942 1522.85 253.942 1531.6 Q253.942 1540.33 250.863 1544.94 Q247.808 1549.52 241.997 1549.52 Q236.187 1549.52 233.109 1544.94 Q230.053 1540.33 230.053 1531.6 Q230.053 1522.85 233.109 1518.27 Q236.187 1513.66 241.997 1513.66 Z\" fill=\"#000000\" fill-rule=\"nonzero\" fill-opacity=\"1\" /><path clip-path=\"url(#clip020)\" d=\"M272.159 1517.37 Q268.548 1517.37 266.72 1520.93 Q264.914 1524.47 264.914 1531.6 Q264.914 1538.71 266.72 1542.27 Q268.548 1545.82 272.159 1545.82 Q275.794 1545.82 277.599 1542.27 Q279.428 1538.71 279.428 1531.6 Q279.428 1524.47 277.599 1520.93 Q275.794 1517.37 272.159 1517.37 M272.159 1513.66 Q277.969 1513.66 281.025 1518.27 Q284.104 1522.85 284.104 1531.6 Q284.104 1540.33 281.025 1544.94 Q277.969 1549.52 272.159 1549.52 Q266.349 1549.52 263.27 1544.94 Q260.215 1540.33 260.215 1531.6 Q260.215 1522.85 263.27 1518.27 Q266.349 1513.66 272.159 1513.66 Z\" fill=\"#000000\" fill-rule=\"nonzero\" fill-opacity=\"1\" /><path clip-path=\"url(#clip020)\" d=\"M711.562 1517.37 Q707.951 1517.37 706.123 1520.93 Q704.317 1524.47 704.317 1531.6 Q704.317 1538.71 706.123 1542.27 Q707.951 1545.82 711.562 1545.82 Q715.197 1545.82 717.002 1542.27 Q718.831 1538.71 718.831 1531.6 Q718.831 1524.47 717.002 1520.93 Q715.197 1517.37 711.562 1517.37 M711.562 1513.66 Q717.373 1513.66 720.428 1518.27 Q723.507 1522.85 723.507 1531.6 Q723.507 1540.33 720.428 1544.94 Q717.373 1549.52 711.562 1549.52 Q705.752 1549.52 702.674 1544.94 Q699.618 1540.33 699.618 1531.6 Q699.618 1522.85 702.674 1518.27 Q705.752 1513.66 711.562 1513.66 Z\" fill=\"#000000\" fill-rule=\"nonzero\" fill-opacity=\"1\" /><path clip-path=\"url(#clip020)\" d=\"M731.724 1542.97 L736.609 1542.97 L736.609 1548.85 L731.724 1548.85 L731.724 1542.97 Z\" fill=\"#000000\" fill-rule=\"nonzero\" fill-opacity=\"1\" /><path clip-path=\"url(#clip020)\" d=\"M750.822 1544.91 L767.141 1544.91 L767.141 1548.85 L745.197 1548.85 L745.197 1544.91 Q747.859 1542.16 752.442 1537.53 Q757.048 1532.88 758.229 1531.53 Q760.474 1529.01 761.354 1527.27 Q762.257 1525.51 762.257 1523.82 Q762.257 1521.07 760.312 1519.33 Q758.391 1517.6 755.289 1517.6 Q753.09 1517.6 750.636 1518.36 Q748.206 1519.13 745.428 1520.68 L745.428 1515.95 Q748.252 1514.82 750.706 1514.24 Q753.159 1513.66 755.197 1513.66 Q760.567 1513.66 763.761 1516.35 Q766.956 1519.03 766.956 1523.52 Q766.956 1525.65 766.146 1527.57 Q765.358 1529.47 763.252 1532.07 Q762.673 1532.74 759.571 1535.95 Q756.47 1539.15 750.822 1544.91 Z\" fill=\"#000000\" fill-rule=\"nonzero\" fill-opacity=\"1\" /><path clip-path=\"url(#clip020)\" d=\"M777.002 1514.29 L795.358 1514.29 L795.358 1518.22 L781.284 1518.22 L781.284 1526.7 Q782.303 1526.35 783.321 1526.19 Q784.34 1526 785.358 1526 Q791.145 1526 794.525 1529.17 Q797.905 1532.34 797.905 1537.76 Q797.905 1543.34 794.432 1546.44 Q790.96 1549.52 784.641 1549.52 Q782.465 1549.52 780.196 1549.15 Q777.951 1548.78 775.544 1548.04 L775.544 1543.34 Q777.627 1544.47 779.849 1545.03 Q782.071 1545.58 784.548 1545.58 Q788.553 1545.58 790.891 1543.48 Q793.229 1541.37 793.229 1537.76 Q793.229 1534.15 790.891 1532.04 Q788.553 1529.94 784.548 1529.94 Q782.673 1529.94 780.798 1530.35 Q778.946 1530.77 777.002 1531.65 L777.002 1514.29 Z\" fill=\"#000000\" fill-rule=\"nonzero\" fill-opacity=\"1\" /><path clip-path=\"url(#clip020)\" d=\"M1225.36 1517.37 Q1221.75 1517.37 1219.92 1520.93 Q1218.12 1524.47 1218.12 1531.6 Q1218.12 1538.71 1219.92 1542.27 Q1221.75 1545.82 1225.36 1545.82 Q1229 1545.82 1230.8 1542.27 Q1232.63 1538.71 1232.63 1531.6 Q1232.63 1524.47 1230.8 1520.93 Q1229 1517.37 1225.36 1517.37 M1225.36 1513.66 Q1231.17 1513.66 1234.23 1518.27 Q1237.31 1522.85 1237.31 1531.6 Q1237.31 1540.33 1234.23 1544.94 Q1231.17 1549.52 1225.36 1549.52 Q1219.55 1549.52 1216.47 1544.94 Q1213.42 1540.33 1213.42 1531.6 Q1213.42 1522.85 1216.47 1518.27 Q1219.55 1513.66 1225.36 1513.66 Z\" fill=\"#000000\" fill-rule=\"nonzero\" fill-opacity=\"1\" /><path clip-path=\"url(#clip020)\" d=\"M1245.53 1542.97 L1250.41 1542.97 L1250.41 1548.85 L1245.53 1548.85 L1245.53 1542.97 Z\" fill=\"#000000\" fill-rule=\"nonzero\" fill-opacity=\"1\" /><path clip-path=\"url(#clip020)\" d=\"M1260.64 1514.29 L1279 1514.29 L1279 1518.22 L1264.92 1518.22 L1264.92 1526.7 Q1265.94 1526.35 1266.96 1526.19 Q1267.98 1526 1269 1526 Q1274.78 1526 1278.16 1529.17 Q1281.54 1532.34 1281.54 1537.76 Q1281.54 1543.34 1278.07 1546.44 Q1274.6 1549.52 1268.28 1549.52 Q1266.1 1549.52 1263.84 1549.15 Q1261.59 1548.78 1259.18 1548.04 L1259.18 1543.34 Q1261.27 1544.47 1263.49 1545.03 Q1265.71 1545.58 1268.19 1545.58 Q1272.19 1545.58 1274.53 1543.48 Q1276.87 1541.37 1276.87 1537.76 Q1276.87 1534.15 1274.53 1532.04 Q1272.19 1529.94 1268.19 1529.94 Q1266.31 1529.94 1264.44 1530.35 Q1262.59 1530.77 1260.64 1531.65 L1260.64 1514.29 Z\" fill=\"#000000\" fill-rule=\"nonzero\" fill-opacity=\"1\" /><path clip-path=\"url(#clip020)\" d=\"M1300.76 1517.37 Q1297.15 1517.37 1295.32 1520.93 Q1293.51 1524.47 1293.51 1531.6 Q1293.51 1538.71 1295.32 1542.27 Q1297.15 1545.82 1300.76 1545.82 Q1304.39 1545.82 1306.2 1542.27 Q1308.03 1538.71 1308.03 1531.6 Q1308.03 1524.47 1306.2 1520.93 Q1304.39 1517.37 1300.76 1517.37 M1300.76 1513.66 Q1306.57 1513.66 1309.62 1518.27 Q1312.7 1522.85 1312.7 1531.6 Q1312.7 1540.33 1309.62 1544.94 Q1306.57 1549.52 1300.76 1549.52 Q1294.95 1549.52 1291.87 1544.94 Q1288.81 1540.33 1288.81 1531.6 Q1288.81 1522.85 1291.87 1518.27 Q1294.95 1513.66 1300.76 1513.66 Z\" fill=\"#000000\" fill-rule=\"nonzero\" fill-opacity=\"1\" /><path clip-path=\"url(#clip020)\" d=\"M1740.16 1517.37 Q1736.55 1517.37 1734.72 1520.93 Q1732.91 1524.47 1732.91 1531.6 Q1732.91 1538.71 1734.72 1542.27 Q1736.55 1545.82 1740.16 1545.82 Q1743.79 1545.82 1745.6 1542.27 Q1747.43 1538.71 1747.43 1531.6 Q1747.43 1524.47 1745.6 1520.93 Q1743.79 1517.37 1740.16 1517.37 M1740.16 1513.66 Q1745.97 1513.66 1749.03 1518.27 Q1752.1 1522.85 1752.1 1531.6 Q1752.1 1540.33 1749.03 1544.94 Q1745.97 1549.52 1740.16 1549.52 Q1734.35 1549.52 1731.27 1544.94 Q1728.22 1540.33 1728.22 1531.6 Q1728.22 1522.85 1731.27 1518.27 Q1734.35 1513.66 1740.16 1513.66 Z\" fill=\"#000000\" fill-rule=\"nonzero\" fill-opacity=\"1\" /><path clip-path=\"url(#clip020)\" d=\"M1760.32 1542.97 L1765.21 1542.97 L1765.21 1548.85 L1760.32 1548.85 L1760.32 1542.97 Z\" fill=\"#000000\" fill-rule=\"nonzero\" fill-opacity=\"1\" /><path clip-path=\"url(#clip020)\" d=\"M1774.21 1514.29 L1796.43 1514.29 L1796.43 1516.28 L1783.89 1548.85 L1779 1548.85 L1790.81 1518.22 L1774.21 1518.22 L1774.21 1514.29 Z\" fill=\"#000000\" fill-rule=\"nonzero\" fill-opacity=\"1\" /><path clip-path=\"url(#clip020)\" d=\"M1805.6 1514.29 L1823.96 1514.29 L1823.96 1518.22 L1809.88 1518.22 L1809.88 1526.7 Q1810.9 1526.35 1811.92 1526.19 Q1812.94 1526 1813.96 1526 Q1819.74 1526 1823.12 1529.17 Q1826.5 1532.34 1826.5 1537.76 Q1826.5 1543.34 1823.03 1546.44 Q1819.56 1549.52 1813.24 1549.52 Q1811.06 1549.52 1808.79 1549.15 Q1806.55 1548.78 1804.14 1548.04 L1804.14 1543.34 Q1806.22 1544.47 1808.45 1545.03 Q1810.67 1545.58 1813.15 1545.58 Q1817.15 1545.58 1819.49 1543.48 Q1821.83 1541.37 1821.83 1537.76 Q1821.83 1534.15 1819.49 1532.04 Q1817.15 1529.94 1813.15 1529.94 Q1811.27 1529.94 1809.4 1530.35 Q1807.54 1530.77 1805.6 1531.65 L1805.6 1514.29 Z\" fill=\"#000000\" fill-rule=\"nonzero\" fill-opacity=\"1\" /><path clip-path=\"url(#clip020)\" d=\"M2243.73 1544.91 L2251.37 1544.91 L2251.37 1518.55 L2243.06 1520.21 L2243.06 1515.95 L2251.32 1514.29 L2256 1514.29 L2256 1544.91 L2263.64 1544.91 L2263.64 1548.85 L2243.73 1548.85 L2243.73 1544.91 Z\" fill=\"#000000\" fill-rule=\"nonzero\" fill-opacity=\"1\" /><path clip-path=\"url(#clip020)\" d=\"M2273.08 1542.97 L2277.97 1542.97 L2277.97 1548.85 L2273.08 1548.85 L2273.08 1542.97 Z\" fill=\"#000000\" fill-rule=\"nonzero\" fill-opacity=\"1\" /><path clip-path=\"url(#clip020)\" d=\"M2298.15 1517.37 Q2294.54 1517.37 2292.71 1520.93 Q2290.9 1524.47 2290.9 1531.6 Q2290.9 1538.71 2292.71 1542.27 Q2294.54 1545.82 2298.15 1545.82 Q2301.78 1545.82 2303.59 1542.27 Q2305.42 1538.71 2305.42 1531.6 Q2305.42 1524.47 2303.59 1520.93 Q2301.78 1517.37 2298.15 1517.37 M2298.15 1513.66 Q2303.96 1513.66 2307.02 1518.27 Q2310.09 1522.85 2310.09 1531.6 Q2310.09 1540.33 2307.02 1544.94 Q2303.96 1549.52 2298.15 1549.52 Q2292.34 1549.52 2289.26 1544.94 Q2286.21 1540.33 2286.21 1531.6 Q2286.21 1522.85 2289.26 1518.27 Q2292.34 1513.66 2298.15 1513.66 Z\" fill=\"#000000\" fill-rule=\"nonzero\" fill-opacity=\"1\" /><path clip-path=\"url(#clip020)\" d=\"M2328.31 1517.37 Q2324.7 1517.37 2322.87 1520.93 Q2321.07 1524.47 2321.07 1531.6 Q2321.07 1538.71 2322.87 1542.27 Q2324.7 1545.82 2328.31 1545.82 Q2331.95 1545.82 2333.75 1542.27 Q2335.58 1538.71 2335.58 1531.6 Q2335.58 1524.47 2333.75 1520.93 Q2331.95 1517.37 2328.31 1517.37 M2328.31 1513.66 Q2334.12 1513.66 2337.18 1518.27 Q2340.26 1522.85 2340.26 1531.6 Q2340.26 1540.33 2337.18 1544.94 Q2334.12 1549.52 2328.31 1549.52 Q2322.5 1549.52 2319.42 1544.94 Q2316.37 1540.33 2316.37 1531.6 Q2316.37 1522.85 2319.42 1518.27 Q2322.5 1513.66 2328.31 1513.66 Z\" fill=\"#000000\" fill-rule=\"nonzero\" fill-opacity=\"1\" /><polyline clip-path=\"url(#clip022)\" style=\"stroke:#000000; stroke-linecap:round; stroke-linejoin:round; stroke-width:2; stroke-opacity:0.1; fill:none\" points=\"193.936,1445.72 2352.76,1445.72 \"/>\n",
       "<polyline clip-path=\"url(#clip022)\" style=\"stroke:#000000; stroke-linecap:round; stroke-linejoin:round; stroke-width:2; stroke-opacity:0.1; fill:none\" points=\"193.936,1106.28 2352.76,1106.28 \"/>\n",
       "<polyline clip-path=\"url(#clip022)\" style=\"stroke:#000000; stroke-linecap:round; stroke-linejoin:round; stroke-width:2; stroke-opacity:0.1; fill:none\" points=\"193.936,766.846 2352.76,766.846 \"/>\n",
       "<polyline clip-path=\"url(#clip022)\" style=\"stroke:#000000; stroke-linecap:round; stroke-linejoin:round; stroke-width:2; stroke-opacity:0.1; fill:none\" points=\"193.936,427.411 2352.76,427.411 \"/>\n",
       "<polyline clip-path=\"url(#clip022)\" style=\"stroke:#000000; stroke-linecap:round; stroke-linejoin:round; stroke-width:2; stroke-opacity:0.1; fill:none\" points=\"193.936,87.9763 2352.76,87.9763 \"/>\n",
       "<polyline clip-path=\"url(#clip020)\" style=\"stroke:#000000; stroke-linecap:round; stroke-linejoin:round; stroke-width:4; stroke-opacity:1; fill:none\" points=\"193.936,1486.45 193.936,47.2441 \"/>\n",
       "<polyline clip-path=\"url(#clip020)\" style=\"stroke:#000000; stroke-linecap:round; stroke-linejoin:round; stroke-width:4; stroke-opacity:1; fill:none\" points=\"193.936,1445.72 212.834,1445.72 \"/>\n",
       "<polyline clip-path=\"url(#clip020)\" style=\"stroke:#000000; stroke-linecap:round; stroke-linejoin:round; stroke-width:4; stroke-opacity:1; fill:none\" points=\"193.936,1106.28 212.834,1106.28 \"/>\n",
       "<polyline clip-path=\"url(#clip020)\" style=\"stroke:#000000; stroke-linecap:round; stroke-linejoin:round; stroke-width:4; stroke-opacity:1; fill:none\" points=\"193.936,766.846 212.834,766.846 \"/>\n",
       "<polyline clip-path=\"url(#clip020)\" style=\"stroke:#000000; stroke-linecap:round; stroke-linejoin:round; stroke-width:4; stroke-opacity:1; fill:none\" points=\"193.936,427.411 212.834,427.411 \"/>\n",
       "<polyline clip-path=\"url(#clip020)\" style=\"stroke:#000000; stroke-linecap:round; stroke-linejoin:round; stroke-width:4; stroke-opacity:1; fill:none\" points=\"193.936,87.9763 212.834,87.9763 \"/>\n",
       "<path clip-path=\"url(#clip020)\" d=\"M50.9921 1446.17 L80.6679 1446.17 L80.6679 1450.1 L50.9921 1450.1 L50.9921 1446.17 Z\" fill=\"#000000\" fill-rule=\"nonzero\" fill-opacity=\"1\" /><path clip-path=\"url(#clip020)\" d=\"M91.5706 1459.06 L99.2095 1459.06 L99.2095 1432.69 L90.8993 1434.36 L90.8993 1430.1 L99.1632 1428.44 L103.839 1428.44 L103.839 1459.06 L111.478 1459.06 L111.478 1463 L91.5706 1463 L91.5706 1459.06 Z\" fill=\"#000000\" fill-rule=\"nonzero\" fill-opacity=\"1\" /><path clip-path=\"url(#clip020)\" d=\"M120.922 1457.12 L125.807 1457.12 L125.807 1463 L120.922 1463 L120.922 1457.12 Z\" fill=\"#000000\" fill-rule=\"nonzero\" fill-opacity=\"1\" /><path clip-path=\"url(#clip020)\" d=\"M145.992 1431.51 Q142.381 1431.51 140.552 1435.08 Q138.746 1438.62 138.746 1445.75 Q138.746 1452.86 140.552 1456.42 Q142.381 1459.96 145.992 1459.96 Q149.626 1459.96 151.431 1456.42 Q153.26 1452.86 153.26 1445.75 Q153.26 1438.62 151.431 1435.08 Q149.626 1431.51 145.992 1431.51 M145.992 1427.81 Q151.802 1427.81 154.857 1432.42 Q157.936 1437 157.936 1445.75 Q157.936 1454.48 154.857 1459.08 Q151.802 1463.67 145.992 1463.67 Q140.181 1463.67 137.103 1459.08 Q134.047 1454.48 134.047 1445.75 Q134.047 1437 137.103 1432.42 Q140.181 1427.81 145.992 1427.81 Z\" fill=\"#000000\" fill-rule=\"nonzero\" fill-opacity=\"1\" /><path clip-path=\"url(#clip020)\" d=\"M51.9875 1106.73 L81.6633 1106.73 L81.6633 1110.67 L51.9875 1110.67 L51.9875 1106.73 Z\" fill=\"#000000\" fill-rule=\"nonzero\" fill-opacity=\"1\" /><path clip-path=\"url(#clip020)\" d=\"M101.756 1092.08 Q98.1447 1092.08 96.316 1095.64 Q94.5104 1099.19 94.5104 1106.32 Q94.5104 1113.42 96.316 1116.99 Q98.1447 1120.53 101.756 1120.53 Q105.39 1120.53 107.196 1116.99 Q109.024 1113.42 109.024 1106.32 Q109.024 1099.19 107.196 1095.64 Q105.39 1092.08 101.756 1092.08 M101.756 1088.38 Q107.566 1088.38 110.621 1092.98 Q113.7 1097.57 113.7 1106.32 Q113.7 1115.04 110.621 1119.65 Q107.566 1124.23 101.756 1124.23 Q95.9456 1124.23 92.8669 1119.65 Q89.8114 1115.04 89.8114 1106.32 Q89.8114 1097.57 92.8669 1092.98 Q95.9456 1088.38 101.756 1088.38 Z\" fill=\"#000000\" fill-rule=\"nonzero\" fill-opacity=\"1\" /><path clip-path=\"url(#clip020)\" d=\"M121.918 1117.68 L126.802 1117.68 L126.802 1123.56 L121.918 1123.56 L121.918 1117.68 Z\" fill=\"#000000\" fill-rule=\"nonzero\" fill-opacity=\"1\" /><path clip-path=\"url(#clip020)\" d=\"M137.033 1089 L155.39 1089 L155.39 1092.94 L141.316 1092.94 L141.316 1101.41 Q142.334 1101.06 143.353 1100.9 Q144.371 1100.71 145.39 1100.71 Q151.177 1100.71 154.556 1103.89 Q157.936 1107.06 157.936 1112.47 Q157.936 1118.05 154.464 1121.15 Q150.992 1124.23 144.672 1124.23 Q142.496 1124.23 140.228 1123.86 Q137.982 1123.49 135.575 1122.75 L135.575 1118.05 Q137.658 1119.19 139.881 1119.74 Q142.103 1120.3 144.58 1120.3 Q148.584 1120.3 150.922 1118.19 Q153.26 1116.08 153.26 1112.47 Q153.26 1108.86 150.922 1106.76 Q148.584 1104.65 144.58 1104.65 Q142.705 1104.65 140.83 1105.07 Q138.978 1105.48 137.033 1106.36 L137.033 1089 Z\" fill=\"#000000\" fill-rule=\"nonzero\" fill-opacity=\"1\" /><path clip-path=\"url(#clip020)\" d=\"M100.76 752.645 Q97.1493 752.645 95.3206 756.209 Q93.515 759.751 93.515 766.881 Q93.515 773.987 95.3206 777.552 Q97.1493 781.094 100.76 781.094 Q104.395 781.094 106.2 777.552 Q108.029 773.987 108.029 766.881 Q108.029 759.751 106.2 756.209 Q104.395 752.645 100.76 752.645 M100.76 748.941 Q106.571 748.941 109.626 753.547 Q112.705 758.131 112.705 766.881 Q112.705 775.608 109.626 780.214 Q106.571 784.797 100.76 784.797 Q94.9502 784.797 91.8715 780.214 Q88.816 775.608 88.816 766.881 Q88.816 758.131 91.8715 753.547 Q94.9502 748.941 100.76 748.941 Z\" fill=\"#000000\" fill-rule=\"nonzero\" fill-opacity=\"1\" /><path clip-path=\"url(#clip020)\" d=\"M120.922 778.246 L125.807 778.246 L125.807 784.126 L120.922 784.126 L120.922 778.246 Z\" fill=\"#000000\" fill-rule=\"nonzero\" fill-opacity=\"1\" /><path clip-path=\"url(#clip020)\" d=\"M145.992 752.645 Q142.381 752.645 140.552 756.209 Q138.746 759.751 138.746 766.881 Q138.746 773.987 140.552 777.552 Q142.381 781.094 145.992 781.094 Q149.626 781.094 151.431 777.552 Q153.26 773.987 153.26 766.881 Q153.26 759.751 151.431 756.209 Q149.626 752.645 145.992 752.645 M145.992 748.941 Q151.802 748.941 154.857 753.547 Q157.936 758.131 157.936 766.881 Q157.936 775.608 154.857 780.214 Q151.802 784.797 145.992 784.797 Q140.181 784.797 137.103 780.214 Q134.047 775.608 134.047 766.881 Q134.047 758.131 137.103 753.547 Q140.181 748.941 145.992 748.941 Z\" fill=\"#000000\" fill-rule=\"nonzero\" fill-opacity=\"1\" /><path clip-path=\"url(#clip020)\" d=\"M101.756 413.21 Q98.1447 413.21 96.316 416.775 Q94.5104 420.316 94.5104 427.446 Q94.5104 434.552 96.316 438.117 Q98.1447 441.659 101.756 441.659 Q105.39 441.659 107.196 438.117 Q109.024 434.552 109.024 427.446 Q109.024 420.316 107.196 416.775 Q105.39 413.21 101.756 413.21 M101.756 409.506 Q107.566 409.506 110.621 414.113 Q113.7 418.696 113.7 427.446 Q113.7 436.173 110.621 440.779 Q107.566 445.362 101.756 445.362 Q95.9456 445.362 92.8669 440.779 Q89.8114 436.173 89.8114 427.446 Q89.8114 418.696 92.8669 414.113 Q95.9456 409.506 101.756 409.506 Z\" fill=\"#000000\" fill-rule=\"nonzero\" fill-opacity=\"1\" /><path clip-path=\"url(#clip020)\" d=\"M121.918 438.812 L126.802 438.812 L126.802 444.691 L121.918 444.691 L121.918 438.812 Z\" fill=\"#000000\" fill-rule=\"nonzero\" fill-opacity=\"1\" /><path clip-path=\"url(#clip020)\" d=\"M137.033 410.131 L155.39 410.131 L155.39 414.066 L141.316 414.066 L141.316 422.538 Q142.334 422.191 143.353 422.029 Q144.371 421.844 145.39 421.844 Q151.177 421.844 154.556 425.015 Q157.936 428.187 157.936 433.603 Q157.936 439.182 154.464 442.284 Q150.992 445.362 144.672 445.362 Q142.496 445.362 140.228 444.992 Q137.982 444.622 135.575 443.881 L135.575 439.182 Q137.658 440.316 139.881 440.872 Q142.103 441.427 144.58 441.427 Q148.584 441.427 150.922 439.321 Q153.26 437.214 153.26 433.603 Q153.26 429.992 150.922 427.886 Q148.584 425.779 144.58 425.779 Q142.705 425.779 140.83 426.196 Q138.978 426.613 137.033 427.492 L137.033 410.131 Z\" fill=\"#000000\" fill-rule=\"nonzero\" fill-opacity=\"1\" /><path clip-path=\"url(#clip020)\" d=\"M91.5706 101.321 L99.2095 101.321 L99.2095 74.9555 L90.8993 76.6222 L90.8993 72.3629 L99.1632 70.6963 L103.839 70.6963 L103.839 101.321 L111.478 101.321 L111.478 105.256 L91.5706 105.256 L91.5706 101.321 Z\" fill=\"#000000\" fill-rule=\"nonzero\" fill-opacity=\"1\" /><path clip-path=\"url(#clip020)\" d=\"M120.922 99.3767 L125.807 99.3767 L125.807 105.256 L120.922 105.256 L120.922 99.3767 Z\" fill=\"#000000\" fill-rule=\"nonzero\" fill-opacity=\"1\" /><path clip-path=\"url(#clip020)\" d=\"M145.992 73.775 Q142.381 73.775 140.552 77.3398 Q138.746 80.8814 138.746 88.011 Q138.746 95.1174 140.552 98.6822 Q142.381 102.224 145.992 102.224 Q149.626 102.224 151.431 98.6822 Q153.26 95.1174 153.26 88.011 Q153.26 80.8814 151.431 77.3398 Q149.626 73.775 145.992 73.775 M145.992 70.0713 Q151.802 70.0713 154.857 74.6777 Q157.936 79.261 157.936 88.011 Q157.936 96.7378 154.857 101.344 Q151.802 105.928 145.992 105.928 Q140.181 105.928 137.103 101.344 Q134.047 96.7378 134.047 88.011 Q134.047 79.261 137.103 74.6777 Q140.181 70.0713 145.992 70.0713 Z\" fill=\"#000000\" fill-rule=\"nonzero\" fill-opacity=\"1\" /><polyline clip-path=\"url(#clip022)\" style=\"stroke:#009af9; stroke-linecap:round; stroke-linejoin:round; stroke-width:4; stroke-opacity:1; fill:none\" points=\"255.035,87.9763 275.607,94.765 296.179,101.486 316.751,108.139 337.322,114.726 357.894,121.248 378.466,127.704 399.038,134.095 419.61,140.423 440.182,146.687 460.754,152.888 481.326,159.028 501.898,165.106 522.47,171.124 543.042,177.081 563.614,182.978 584.186,188.817 604.758,194.597 625.33,200.32 645.902,205.985 666.474,211.594 687.046,217.146 707.617,222.643 728.189,228.085 748.761,233.473 769.333,238.807 789.905,244.087 810.477,249.315 831.049,254.49 851.621,259.613 872.193,264.686 892.765,269.707 913.337,274.679 933.909,279.6 954.481,284.473 975.053,289.297 995.625,294.072 1016.2,298.8 1036.77,303.48 1057.34,308.114 1077.91,312.701 1098.48,317.243 1119.06,321.739 1139.63,326.19 1160.2,330.596 1180.77,334.959 1201.34,339.278 1221.92,343.553 1242.49,347.786 1263.06,351.977 1283.63,356.126 1304.2,360.233 1324.78,364.299 1345.35,368.324 1365.92,372.31 1386.49,376.255 1407.06,380.161 1427.64,384.028 1448.21,387.856 1468.78,391.646 1489.35,395.398 1509.92,399.112 1530.5,402.79 1551.07,406.43 1571.64,410.034 1592.21,413.603 1612.78,417.135 1633.35,420.632 1653.93,424.094 1674.5,427.522 1695.07,430.915 1715.64,434.274 1736.21,437.6 1756.79,440.892 1777.36,444.152 1797.93,447.379 1818.5,450.574 1839.07,453.736 1859.65,456.867 1880.22,459.967 1900.79,463.036 1921.36,466.074 1941.93,469.082 1962.51,472.059 1983.08,475.007 2003.65,477.926 2024.22,480.815 2044.79,483.675 2065.37,486.507 2085.94,489.31 2106.51,492.086 2127.08,494.833 2147.65,497.553 2168.23,500.246 2188.8,502.912 2209.37,505.552 2229.94,508.165 2250.51,510.751 2271.09,513.312 2291.66,515.848 \"/>\n",
       "<polyline clip-path=\"url(#clip022)\" style=\"stroke:#e26f46; stroke-linecap:round; stroke-linejoin:round; stroke-width:4; stroke-opacity:1; fill:none\" points=\"255.035,1445.72 275.607,1438.93 296.179,1432.21 316.751,1425.55 337.322,1418.97 357.894,1412.44 378.466,1405.99 399.038,1399.6 419.61,1393.27 440.182,1387.01 460.754,1380.8 481.326,1374.66 501.898,1368.59 522.47,1362.57 543.042,1356.61 563.614,1350.71 584.186,1344.87 604.758,1339.09 625.33,1333.37 645.902,1327.71 666.474,1322.1 687.046,1316.55 707.617,1311.05 728.189,1305.61 748.761,1300.22 769.333,1294.89 789.905,1289.6 810.477,1284.38 831.049,1279.2 851.621,1274.08 872.193,1269.01 892.765,1263.98 913.337,1259.01 933.909,1254.09 954.481,1249.22 975.053,1244.4 995.625,1239.62 1016.2,1234.89 1036.77,1230.21 1057.34,1225.58 1077.91,1220.99 1098.48,1216.45 1119.06,1211.95 1139.63,1207.5 1160.2,1203.1 1180.77,1198.73 1201.34,1194.41 1221.92,1190.14 1242.49,1185.91 1263.06,1181.71 1283.63,1177.57 1304.2,1173.46 1324.78,1169.39 1345.35,1165.37 1365.92,1161.38 1386.49,1157.44 1407.06,1153.53 1427.64,1149.66 1448.21,1145.84 1468.78,1142.05 1489.35,1138.29 1509.92,1134.58 1530.5,1130.9 1551.07,1127.26 1571.64,1123.66 1592.21,1120.09 1612.78,1116.56 1633.35,1113.06 1653.93,1109.6 1674.5,1106.17 1695.07,1102.78 1715.64,1099.42 1736.21,1096.09 1756.79,1092.8 1777.36,1089.54 1797.93,1086.31 1818.5,1083.12 1839.07,1079.96 1859.65,1076.82 1880.22,1073.72 1900.79,1070.66 1921.36,1067.62 1941.93,1064.61 1962.51,1061.63 1983.08,1058.68 2003.65,1055.77 2024.22,1052.88 2044.79,1050.02 2065.37,1047.19 2085.94,1044.38 2106.51,1041.61 2127.08,1038.86 2147.65,1036.14 2168.23,1033.45 2188.8,1030.78 2209.37,1028.14 2229.94,1025.53 2250.51,1022.94 2271.09,1020.38 2291.66,1017.84 \"/>\n",
       "<polyline clip-path=\"url(#clip022)\" style=\"stroke:#3da44d; stroke-linecap:round; stroke-linejoin:round; stroke-width:4; stroke-opacity:1; fill:none\" points=\"255.035,87.9763 275.607,94.731 296.179,101.419 316.751,108.04 337.322,114.595 357.894,121.085 378.466,127.51 399.038,133.871 419.61,140.169 440.182,146.405 460.754,152.578 481.326,158.69 501.898,164.741 522.47,170.732 543.042,176.664 563.614,182.536 584.186,188.35 604.758,194.106 625.33,199.805 645.902,205.447 666.474,211.033 687.046,216.563 707.617,222.038 728.189,227.459 748.761,232.826 769.333,238.14 789.905,243.4 810.477,248.608 831.049,253.765 851.621,258.87 872.193,263.924 892.765,268.928 913.337,273.883 933.909,278.788 954.481,283.644 975.053,288.452 995.625,293.212 1016.2,297.924 1036.77,302.59 1057.34,307.21 1077.91,311.783 1098.48,316.311 1119.06,320.794 1139.63,325.232 1160.2,329.626 1180.77,333.976 1201.34,338.283 1221.92,342.548 1242.49,346.769 1263.06,350.949 1283.63,355.087 1304.2,359.184 1324.78,363.24 1345.35,367.256 1365.92,371.232 1386.49,375.169 1407.06,379.066 1427.64,382.924 1448.21,386.744 1468.78,390.526 1489.35,394.271 1509.92,397.978 1530.5,401.648 1551.07,405.282 1571.64,408.879 1592.21,412.441 1612.78,415.967 1633.35,419.459 1653.93,422.915 1674.5,426.337 1695.07,429.725 1715.64,433.08 1736.21,436.401 1756.79,439.689 1777.36,442.944 1797.93,446.167 1818.5,449.357 1839.07,452.516 1859.65,455.644 1880.22,458.74 1900.79,461.806 1921.36,464.841 1941.93,467.846 1962.51,470.821 1983.08,473.767 2003.65,476.683 2024.22,479.57 2044.79,482.428 2065.37,485.258 2085.94,488.06 2106.51,490.834 2127.08,493.58 2147.65,496.299 2168.23,498.991 2188.8,501.656 2209.37,504.295 2229.94,506.907 2250.51,509.494 2271.09,512.054 2291.66,514.59 \"/>\n",
       "<polyline clip-path=\"url(#clip022)\" style=\"stroke:#c271d2; stroke-linecap:round; stroke-linejoin:round; stroke-width:4; stroke-opacity:1; fill:none\" points=\"255.035,1445.72 275.607,1438.96 296.179,1432.27 316.751,1425.65 337.322,1419.1 357.894,1412.61 378.466,1406.18 399.038,1399.82 419.61,1393.52 440.182,1387.29 460.754,1381.11 481.326,1375 501.898,1368.95 522.47,1362.96 543.042,1357.03 563.614,1351.16 584.186,1345.34 604.758,1339.59 625.33,1333.89 645.902,1328.25 666.474,1322.66 687.046,1317.13 707.617,1311.65 728.189,1306.23 748.761,1300.87 769.333,1295.55 789.905,1290.29 810.477,1285.08 831.049,1279.93 851.621,1274.82 872.193,1269.77 892.765,1264.76 913.337,1259.81 933.909,1254.9 954.481,1250.05 975.053,1245.24 995.625,1240.48 1016.2,1235.77 1036.77,1231.1 1057.34,1226.48 1077.91,1221.91 1098.48,1217.38 1119.06,1212.9 1139.63,1208.46 1160.2,1204.07 1180.77,1199.72 1201.34,1195.41 1221.92,1191.14 1242.49,1186.92 1263.06,1182.74 1283.63,1178.6 1304.2,1174.51 1324.78,1170.45 1345.35,1166.44 1365.92,1162.46 1386.49,1158.52 1407.06,1154.63 1427.64,1150.77 1448.21,1146.95 1468.78,1143.17 1489.35,1139.42 1509.92,1135.71 1530.5,1132.04 1551.07,1128.41 1571.64,1124.81 1592.21,1121.25 1612.78,1117.72 1633.35,1114.23 1653.93,1110.78 1674.5,1107.35 1695.07,1103.97 1715.64,1100.61 1736.21,1097.29 1756.79,1094 1777.36,1090.75 1797.93,1087.53 1818.5,1084.33 1839.07,1081.18 1859.65,1078.05 1880.22,1074.95 1900.79,1071.89 1921.36,1068.85 1941.93,1065.85 1962.51,1062.87 1983.08,1059.93 2003.65,1057.01 2024.22,1054.12 2044.79,1051.26 2065.37,1048.43 2085.94,1045.63 2106.51,1042.86 2127.08,1040.11 2147.65,1037.39 2168.23,1034.7 2188.8,1032.04 2209.37,1029.4 2229.94,1026.78 2250.51,1024.2 2271.09,1021.64 2291.66,1019.1 \"/>\n",
       "<path clip-path=\"url(#clip020)\" d=\"M2010.77 354.418 L2280.8 354.418 L2280.8 95.2176 L2010.77 95.2176  Z\" fill=\"#ffffff\" fill-rule=\"evenodd\" fill-opacity=\"1\"/>\n",
       "<polyline clip-path=\"url(#clip020)\" style=\"stroke:#000000; stroke-linecap:round; stroke-linejoin:round; stroke-width:4; stroke-opacity:1; fill:none\" points=\"2010.77,354.418 2280.8,354.418 2280.8,95.2176 2010.77,95.2176 2010.77,354.418 \"/>\n",
       "<polyline clip-path=\"url(#clip020)\" style=\"stroke:#009af9; stroke-linecap:round; stroke-linejoin:round; stroke-width:4; stroke-opacity:1; fill:none\" points=\"2034.76,147.058 2178.68,147.058 \"/>\n",
       "<path clip-path=\"url(#clip020)\" d=\"M2216.51 166.745 Q2214.7 171.375 2212.99 172.787 Q2211.28 174.199 2208.41 174.199 L2205 174.199 L2205 170.634 L2207.5 170.634 Q2209.26 170.634 2210.23 169.8 Q2211.21 168.967 2212.39 165.865 L2213.15 163.921 L2202.67 138.412 L2207.18 138.412 L2215.28 158.689 L2223.38 138.412 L2227.9 138.412 L2216.51 166.745 Z\" fill=\"#000000\" fill-rule=\"nonzero\" fill-opacity=\"1\" /><path clip-path=\"url(#clip020)\" d=\"M2235.19 160.402 L2242.83 160.402 L2242.83 134.037 L2234.52 135.703 L2234.52 131.444 L2242.78 129.778 L2247.46 129.778 L2247.46 160.402 L2255.1 160.402 L2255.1 164.338 L2235.19 164.338 L2235.19 160.402 Z\" fill=\"#000000\" fill-rule=\"nonzero\" fill-opacity=\"1\" /><polyline clip-path=\"url(#clip020)\" style=\"stroke:#e26f46; stroke-linecap:round; stroke-linejoin:round; stroke-width:4; stroke-opacity:1; fill:none\" points=\"2034.76,198.898 2178.68,198.898 \"/>\n",
       "<path clip-path=\"url(#clip020)\" d=\"M2216.51 218.585 Q2214.7 223.215 2212.99 224.627 Q2211.28 226.039 2208.41 226.039 L2205 226.039 L2205 222.474 L2207.5 222.474 Q2209.26 222.474 2210.23 221.64 Q2211.21 220.807 2212.39 217.705 L2213.15 215.761 L2202.67 190.252 L2207.18 190.252 L2215.28 210.529 L2223.38 190.252 L2227.9 190.252 L2216.51 218.585 Z\" fill=\"#000000\" fill-rule=\"nonzero\" fill-opacity=\"1\" /><path clip-path=\"url(#clip020)\" d=\"M2238.41 212.242 L2254.73 212.242 L2254.73 216.178 L2232.78 216.178 L2232.78 212.242 Q2235.44 209.488 2240.03 204.858 Q2244.63 200.205 2245.81 198.863 Q2248.06 196.34 2248.94 194.604 Q2249.84 192.844 2249.84 191.155 Q2249.84 188.4 2247.9 186.664 Q2245.98 184.928 2242.87 184.928 Q2240.67 184.928 2238.22 185.692 Q2235.79 186.455 2233.01 188.006 L2233.01 183.284 Q2235.84 182.15 2238.29 181.571 Q2240.74 180.993 2242.78 180.993 Q2248.15 180.993 2251.35 183.678 Q2254.54 186.363 2254.54 190.854 Q2254.54 192.983 2253.73 194.905 Q2252.94 196.803 2250.84 199.395 Q2250.26 200.067 2247.16 203.284 Q2244.05 206.479 2238.41 212.242 Z\" fill=\"#000000\" fill-rule=\"nonzero\" fill-opacity=\"1\" /><polyline clip-path=\"url(#clip020)\" style=\"stroke:#3da44d; stroke-linecap:round; stroke-linejoin:round; stroke-width:4; stroke-opacity:1; fill:none\" points=\"2034.76,250.738 2178.68,250.738 \"/>\n",
       "<path clip-path=\"url(#clip020)\" d=\"M2216.51 270.425 Q2214.7 275.055 2212.99 276.467 Q2211.28 277.879 2208.41 277.879 L2205 277.879 L2205 274.314 L2207.5 274.314 Q2209.26 274.314 2210.23 273.48 Q2211.21 272.647 2212.39 269.545 L2213.15 267.601 L2202.67 242.092 L2207.18 242.092 L2215.28 262.369 L2223.38 242.092 L2227.9 242.092 L2216.51 270.425 Z\" fill=\"#000000\" fill-rule=\"nonzero\" fill-opacity=\"1\" /><path clip-path=\"url(#clip020)\" d=\"M2248.54 249.383 Q2251.9 250.101 2253.78 252.369 Q2255.67 254.638 2255.67 257.971 Q2255.67 263.087 2252.16 265.888 Q2248.64 268.689 2242.16 268.689 Q2239.98 268.689 2237.66 268.249 Q2235.37 267.832 2232.92 266.976 L2232.92 262.462 Q2234.86 263.596 2237.18 264.175 Q2239.49 264.754 2242.02 264.754 Q2246.41 264.754 2248.71 263.018 Q2251.02 261.281 2251.02 257.971 Q2251.02 254.916 2248.87 253.203 Q2246.74 251.467 2242.92 251.467 L2238.89 251.467 L2238.89 247.624 L2243.1 247.624 Q2246.55 247.624 2248.38 246.258 Q2250.21 244.87 2250.21 242.277 Q2250.21 239.615 2248.31 238.203 Q2246.44 236.768 2242.92 236.768 Q2241 236.768 2238.8 237.184 Q2236.6 237.601 2233.96 238.481 L2233.96 234.314 Q2236.62 233.573 2238.94 233.203 Q2241.28 232.833 2243.34 232.833 Q2248.66 232.833 2251.76 235.263 Q2254.86 237.67 2254.86 241.791 Q2254.86 244.661 2253.22 246.652 Q2251.58 248.62 2248.54 249.383 Z\" fill=\"#000000\" fill-rule=\"nonzero\" fill-opacity=\"1\" /><polyline clip-path=\"url(#clip020)\" style=\"stroke:#c271d2; stroke-linecap:round; stroke-linejoin:round; stroke-width:4; stroke-opacity:1; fill:none\" points=\"2034.76,302.578 2178.68,302.578 \"/>\n",
       "<path clip-path=\"url(#clip020)\" d=\"M2216.51 322.265 Q2214.7 326.895 2212.99 328.307 Q2211.28 329.719 2208.41 329.719 L2205 329.719 L2205 326.154 L2207.5 326.154 Q2209.26 326.154 2210.23 325.32 Q2211.21 324.487 2212.39 321.385 L2213.15 319.441 L2202.67 293.932 L2207.18 293.932 L2215.28 314.209 L2223.38 293.932 L2227.9 293.932 L2216.51 322.265 Z\" fill=\"#000000\" fill-rule=\"nonzero\" fill-opacity=\"1\" /><path clip-path=\"url(#clip020)\" d=\"M2247.23 289.372 L2235.42 307.821 L2247.23 307.821 L2247.23 289.372 M2246 285.298 L2251.88 285.298 L2251.88 307.821 L2256.81 307.821 L2256.81 311.709 L2251.88 311.709 L2251.88 319.858 L2247.23 319.858 L2247.23 311.709 L2231.62 311.709 L2231.62 307.196 L2246 285.298 Z\" fill=\"#000000\" fill-rule=\"nonzero\" fill-opacity=\"1\" /></svg>\n"
      ],
      "text/html": [
       "<?xml version=\"1.0\" encoding=\"utf-8\"?>\n",
       "<svg xmlns=\"http://www.w3.org/2000/svg\" xmlns:xlink=\"http://www.w3.org/1999/xlink\" width=\"600\" height=\"400\" viewBox=\"0 0 2400 1600\">\n",
       "<defs>\n",
       "  <clipPath id=\"clip070\">\n",
       "    <rect x=\"0\" y=\"0\" width=\"2400\" height=\"1600\"/>\n",
       "  </clipPath>\n",
       "</defs>\n",
       "<path clip-path=\"url(#clip070)\" d=\"M0 1600 L2400 1600 L2400 0 L0 0  Z\" fill=\"#ffffff\" fill-rule=\"evenodd\" fill-opacity=\"1\"/>\n",
       "<defs>\n",
       "  <clipPath id=\"clip071\">\n",
       "    <rect x=\"480\" y=\"0\" width=\"1681\" height=\"1600\"/>\n",
       "  </clipPath>\n",
       "</defs>\n",
       "<path clip-path=\"url(#clip070)\" d=\"M193.936 1486.45 L2352.76 1486.45 L2352.76 47.2441 L193.936 47.2441  Z\" fill=\"#ffffff\" fill-rule=\"evenodd\" fill-opacity=\"1\"/>\n",
       "<defs>\n",
       "  <clipPath id=\"clip072\">\n",
       "    <rect x=\"193\" y=\"47\" width=\"2160\" height=\"1440\"/>\n",
       "  </clipPath>\n",
       "</defs>\n",
       "<polyline clip-path=\"url(#clip072)\" style=\"stroke:#000000; stroke-linecap:round; stroke-linejoin:round; stroke-width:2; stroke-opacity:0.1; fill:none\" points=\"234.463,1486.45 234.463,47.2441 \"/>\n",
       "<polyline clip-path=\"url(#clip072)\" style=\"stroke:#000000; stroke-linecap:round; stroke-linejoin:round; stroke-width:2; stroke-opacity:0.1; fill:none\" points=\"748.761,1486.45 748.761,47.2441 \"/>\n",
       "<polyline clip-path=\"url(#clip072)\" style=\"stroke:#000000; stroke-linecap:round; stroke-linejoin:round; stroke-width:2; stroke-opacity:0.1; fill:none\" points=\"1263.06,1486.45 1263.06,47.2441 \"/>\n",
       "<polyline clip-path=\"url(#clip072)\" style=\"stroke:#000000; stroke-linecap:round; stroke-linejoin:round; stroke-width:2; stroke-opacity:0.1; fill:none\" points=\"1777.36,1486.45 1777.36,47.2441 \"/>\n",
       "<polyline clip-path=\"url(#clip072)\" style=\"stroke:#000000; stroke-linecap:round; stroke-linejoin:round; stroke-width:2; stroke-opacity:0.1; fill:none\" points=\"2291.66,1486.45 2291.66,47.2441 \"/>\n",
       "<polyline clip-path=\"url(#clip070)\" style=\"stroke:#000000; stroke-linecap:round; stroke-linejoin:round; stroke-width:4; stroke-opacity:1; fill:none\" points=\"193.936,1486.45 2352.76,1486.45 \"/>\n",
       "<polyline clip-path=\"url(#clip070)\" style=\"stroke:#000000; stroke-linecap:round; stroke-linejoin:round; stroke-width:4; stroke-opacity:1; fill:none\" points=\"234.463,1486.45 234.463,1467.55 \"/>\n",
       "<polyline clip-path=\"url(#clip070)\" style=\"stroke:#000000; stroke-linecap:round; stroke-linejoin:round; stroke-width:4; stroke-opacity:1; fill:none\" points=\"748.761,1486.45 748.761,1467.55 \"/>\n",
       "<polyline clip-path=\"url(#clip070)\" style=\"stroke:#000000; stroke-linecap:round; stroke-linejoin:round; stroke-width:4; stroke-opacity:1; fill:none\" points=\"1263.06,1486.45 1263.06,1467.55 \"/>\n",
       "<polyline clip-path=\"url(#clip070)\" style=\"stroke:#000000; stroke-linecap:round; stroke-linejoin:round; stroke-width:4; stroke-opacity:1; fill:none\" points=\"1777.36,1486.45 1777.36,1467.55 \"/>\n",
       "<polyline clip-path=\"url(#clip070)\" style=\"stroke:#000000; stroke-linecap:round; stroke-linejoin:round; stroke-width:4; stroke-opacity:1; fill:none\" points=\"2291.66,1486.45 2291.66,1467.55 \"/>\n",
       "<path clip-path=\"url(#clip070)\" d=\"M196.766 1517.37 Q193.155 1517.37 191.326 1520.93 Q189.521 1524.47 189.521 1531.6 Q189.521 1538.71 191.326 1542.27 Q193.155 1545.82 196.766 1545.82 Q200.4 1545.82 202.206 1542.27 Q204.035 1538.71 204.035 1531.6 Q204.035 1524.47 202.206 1520.93 Q200.4 1517.37 196.766 1517.37 M196.766 1513.66 Q202.576 1513.66 205.632 1518.27 Q208.711 1522.85 208.711 1531.6 Q208.711 1540.33 205.632 1544.94 Q202.576 1549.52 196.766 1549.52 Q190.956 1549.52 187.877 1544.94 Q184.822 1540.33 184.822 1531.6 Q184.822 1522.85 187.877 1518.27 Q190.956 1513.66 196.766 1513.66 Z\" fill=\"#000000\" fill-rule=\"nonzero\" fill-opacity=\"1\" /><path clip-path=\"url(#clip070)\" d=\"M216.928 1542.97 L221.812 1542.97 L221.812 1548.85 L216.928 1548.85 L216.928 1542.97 Z\" fill=\"#000000\" fill-rule=\"nonzero\" fill-opacity=\"1\" /><path clip-path=\"url(#clip070)\" d=\"M241.997 1517.37 Q238.386 1517.37 236.558 1520.93 Q234.752 1524.47 234.752 1531.6 Q234.752 1538.71 236.558 1542.27 Q238.386 1545.82 241.997 1545.82 Q245.632 1545.82 247.437 1542.27 Q249.266 1538.71 249.266 1531.6 Q249.266 1524.47 247.437 1520.93 Q245.632 1517.37 241.997 1517.37 M241.997 1513.66 Q247.808 1513.66 250.863 1518.27 Q253.942 1522.85 253.942 1531.6 Q253.942 1540.33 250.863 1544.94 Q247.808 1549.52 241.997 1549.52 Q236.187 1549.52 233.109 1544.94 Q230.053 1540.33 230.053 1531.6 Q230.053 1522.85 233.109 1518.27 Q236.187 1513.66 241.997 1513.66 Z\" fill=\"#000000\" fill-rule=\"nonzero\" fill-opacity=\"1\" /><path clip-path=\"url(#clip070)\" d=\"M272.159 1517.37 Q268.548 1517.37 266.72 1520.93 Q264.914 1524.47 264.914 1531.6 Q264.914 1538.71 266.72 1542.27 Q268.548 1545.82 272.159 1545.82 Q275.794 1545.82 277.599 1542.27 Q279.428 1538.71 279.428 1531.6 Q279.428 1524.47 277.599 1520.93 Q275.794 1517.37 272.159 1517.37 M272.159 1513.66 Q277.969 1513.66 281.025 1518.27 Q284.104 1522.85 284.104 1531.6 Q284.104 1540.33 281.025 1544.94 Q277.969 1549.52 272.159 1549.52 Q266.349 1549.52 263.27 1544.94 Q260.215 1540.33 260.215 1531.6 Q260.215 1522.85 263.27 1518.27 Q266.349 1513.66 272.159 1513.66 Z\" fill=\"#000000\" fill-rule=\"nonzero\" fill-opacity=\"1\" /><path clip-path=\"url(#clip070)\" d=\"M711.562 1517.37 Q707.951 1517.37 706.123 1520.93 Q704.317 1524.47 704.317 1531.6 Q704.317 1538.71 706.123 1542.27 Q707.951 1545.82 711.562 1545.82 Q715.197 1545.82 717.002 1542.27 Q718.831 1538.71 718.831 1531.6 Q718.831 1524.47 717.002 1520.93 Q715.197 1517.37 711.562 1517.37 M711.562 1513.66 Q717.373 1513.66 720.428 1518.27 Q723.507 1522.85 723.507 1531.6 Q723.507 1540.33 720.428 1544.94 Q717.373 1549.52 711.562 1549.52 Q705.752 1549.52 702.674 1544.94 Q699.618 1540.33 699.618 1531.6 Q699.618 1522.85 702.674 1518.27 Q705.752 1513.66 711.562 1513.66 Z\" fill=\"#000000\" fill-rule=\"nonzero\" fill-opacity=\"1\" /><path clip-path=\"url(#clip070)\" d=\"M731.724 1542.97 L736.609 1542.97 L736.609 1548.85 L731.724 1548.85 L731.724 1542.97 Z\" fill=\"#000000\" fill-rule=\"nonzero\" fill-opacity=\"1\" /><path clip-path=\"url(#clip070)\" d=\"M750.822 1544.91 L767.141 1544.91 L767.141 1548.85 L745.197 1548.85 L745.197 1544.91 Q747.859 1542.16 752.442 1537.53 Q757.048 1532.88 758.229 1531.53 Q760.474 1529.01 761.354 1527.27 Q762.257 1525.51 762.257 1523.82 Q762.257 1521.07 760.312 1519.33 Q758.391 1517.6 755.289 1517.6 Q753.09 1517.6 750.636 1518.36 Q748.206 1519.13 745.428 1520.68 L745.428 1515.95 Q748.252 1514.82 750.706 1514.24 Q753.159 1513.66 755.197 1513.66 Q760.567 1513.66 763.761 1516.35 Q766.956 1519.03 766.956 1523.52 Q766.956 1525.65 766.146 1527.57 Q765.358 1529.47 763.252 1532.07 Q762.673 1532.74 759.571 1535.95 Q756.47 1539.15 750.822 1544.91 Z\" fill=\"#000000\" fill-rule=\"nonzero\" fill-opacity=\"1\" /><path clip-path=\"url(#clip070)\" d=\"M777.002 1514.29 L795.358 1514.29 L795.358 1518.22 L781.284 1518.22 L781.284 1526.7 Q782.303 1526.35 783.321 1526.19 Q784.34 1526 785.358 1526 Q791.145 1526 794.525 1529.17 Q797.905 1532.34 797.905 1537.76 Q797.905 1543.34 794.432 1546.44 Q790.96 1549.52 784.641 1549.52 Q782.465 1549.52 780.196 1549.15 Q777.951 1548.78 775.544 1548.04 L775.544 1543.34 Q777.627 1544.47 779.849 1545.03 Q782.071 1545.58 784.548 1545.58 Q788.553 1545.58 790.891 1543.48 Q793.229 1541.37 793.229 1537.76 Q793.229 1534.15 790.891 1532.04 Q788.553 1529.94 784.548 1529.94 Q782.673 1529.94 780.798 1530.35 Q778.946 1530.77 777.002 1531.65 L777.002 1514.29 Z\" fill=\"#000000\" fill-rule=\"nonzero\" fill-opacity=\"1\" /><path clip-path=\"url(#clip070)\" d=\"M1225.36 1517.37 Q1221.75 1517.37 1219.92 1520.93 Q1218.12 1524.47 1218.12 1531.6 Q1218.12 1538.71 1219.92 1542.27 Q1221.75 1545.82 1225.36 1545.82 Q1229 1545.82 1230.8 1542.27 Q1232.63 1538.71 1232.63 1531.6 Q1232.63 1524.47 1230.8 1520.93 Q1229 1517.37 1225.36 1517.37 M1225.36 1513.66 Q1231.17 1513.66 1234.23 1518.27 Q1237.31 1522.85 1237.31 1531.6 Q1237.31 1540.33 1234.23 1544.94 Q1231.17 1549.52 1225.36 1549.52 Q1219.55 1549.52 1216.47 1544.94 Q1213.42 1540.33 1213.42 1531.6 Q1213.42 1522.85 1216.47 1518.27 Q1219.55 1513.66 1225.36 1513.66 Z\" fill=\"#000000\" fill-rule=\"nonzero\" fill-opacity=\"1\" /><path clip-path=\"url(#clip070)\" d=\"M1245.53 1542.97 L1250.41 1542.97 L1250.41 1548.85 L1245.53 1548.85 L1245.53 1542.97 Z\" fill=\"#000000\" fill-rule=\"nonzero\" fill-opacity=\"1\" /><path clip-path=\"url(#clip070)\" d=\"M1260.64 1514.29 L1279 1514.29 L1279 1518.22 L1264.92 1518.22 L1264.92 1526.7 Q1265.94 1526.35 1266.96 1526.19 Q1267.98 1526 1269 1526 Q1274.78 1526 1278.16 1529.17 Q1281.54 1532.34 1281.54 1537.76 Q1281.54 1543.34 1278.07 1546.44 Q1274.6 1549.52 1268.28 1549.52 Q1266.1 1549.52 1263.84 1549.15 Q1261.59 1548.78 1259.18 1548.04 L1259.18 1543.34 Q1261.27 1544.47 1263.49 1545.03 Q1265.71 1545.58 1268.19 1545.58 Q1272.19 1545.58 1274.53 1543.48 Q1276.87 1541.37 1276.87 1537.76 Q1276.87 1534.15 1274.53 1532.04 Q1272.19 1529.94 1268.19 1529.94 Q1266.31 1529.94 1264.44 1530.35 Q1262.59 1530.77 1260.64 1531.65 L1260.64 1514.29 Z\" fill=\"#000000\" fill-rule=\"nonzero\" fill-opacity=\"1\" /><path clip-path=\"url(#clip070)\" d=\"M1300.76 1517.37 Q1297.15 1517.37 1295.32 1520.93 Q1293.51 1524.47 1293.51 1531.6 Q1293.51 1538.71 1295.32 1542.27 Q1297.15 1545.82 1300.76 1545.82 Q1304.39 1545.82 1306.2 1542.27 Q1308.03 1538.71 1308.03 1531.6 Q1308.03 1524.47 1306.2 1520.93 Q1304.39 1517.37 1300.76 1517.37 M1300.76 1513.66 Q1306.57 1513.66 1309.62 1518.27 Q1312.7 1522.85 1312.7 1531.6 Q1312.7 1540.33 1309.62 1544.94 Q1306.57 1549.52 1300.76 1549.52 Q1294.95 1549.52 1291.87 1544.94 Q1288.81 1540.33 1288.81 1531.6 Q1288.81 1522.85 1291.87 1518.27 Q1294.95 1513.66 1300.76 1513.66 Z\" fill=\"#000000\" fill-rule=\"nonzero\" fill-opacity=\"1\" /><path clip-path=\"url(#clip070)\" d=\"M1740.16 1517.37 Q1736.55 1517.37 1734.72 1520.93 Q1732.91 1524.47 1732.91 1531.6 Q1732.91 1538.71 1734.72 1542.27 Q1736.55 1545.82 1740.16 1545.82 Q1743.79 1545.82 1745.6 1542.27 Q1747.43 1538.71 1747.43 1531.6 Q1747.43 1524.47 1745.6 1520.93 Q1743.79 1517.37 1740.16 1517.37 M1740.16 1513.66 Q1745.97 1513.66 1749.03 1518.27 Q1752.1 1522.85 1752.1 1531.6 Q1752.1 1540.33 1749.03 1544.94 Q1745.97 1549.52 1740.16 1549.52 Q1734.35 1549.52 1731.27 1544.94 Q1728.22 1540.33 1728.22 1531.6 Q1728.22 1522.85 1731.27 1518.27 Q1734.35 1513.66 1740.16 1513.66 Z\" fill=\"#000000\" fill-rule=\"nonzero\" fill-opacity=\"1\" /><path clip-path=\"url(#clip070)\" d=\"M1760.32 1542.97 L1765.21 1542.97 L1765.21 1548.85 L1760.32 1548.85 L1760.32 1542.97 Z\" fill=\"#000000\" fill-rule=\"nonzero\" fill-opacity=\"1\" /><path clip-path=\"url(#clip070)\" d=\"M1774.21 1514.29 L1796.43 1514.29 L1796.43 1516.28 L1783.89 1548.85 L1779 1548.85 L1790.81 1518.22 L1774.21 1518.22 L1774.21 1514.29 Z\" fill=\"#000000\" fill-rule=\"nonzero\" fill-opacity=\"1\" /><path clip-path=\"url(#clip070)\" d=\"M1805.6 1514.29 L1823.96 1514.29 L1823.96 1518.22 L1809.88 1518.22 L1809.88 1526.7 Q1810.9 1526.35 1811.92 1526.19 Q1812.94 1526 1813.96 1526 Q1819.74 1526 1823.12 1529.17 Q1826.5 1532.34 1826.5 1537.76 Q1826.5 1543.34 1823.03 1546.44 Q1819.56 1549.52 1813.24 1549.52 Q1811.06 1549.52 1808.79 1549.15 Q1806.55 1548.78 1804.14 1548.04 L1804.14 1543.34 Q1806.22 1544.47 1808.45 1545.03 Q1810.67 1545.58 1813.15 1545.58 Q1817.15 1545.58 1819.49 1543.48 Q1821.83 1541.37 1821.83 1537.76 Q1821.83 1534.15 1819.49 1532.04 Q1817.15 1529.94 1813.15 1529.94 Q1811.27 1529.94 1809.4 1530.35 Q1807.54 1530.77 1805.6 1531.65 L1805.6 1514.29 Z\" fill=\"#000000\" fill-rule=\"nonzero\" fill-opacity=\"1\" /><path clip-path=\"url(#clip070)\" d=\"M2243.73 1544.91 L2251.37 1544.91 L2251.37 1518.55 L2243.06 1520.21 L2243.06 1515.95 L2251.32 1514.29 L2256 1514.29 L2256 1544.91 L2263.64 1544.91 L2263.64 1548.85 L2243.73 1548.85 L2243.73 1544.91 Z\" fill=\"#000000\" fill-rule=\"nonzero\" fill-opacity=\"1\" /><path clip-path=\"url(#clip070)\" d=\"M2273.08 1542.97 L2277.97 1542.97 L2277.97 1548.85 L2273.08 1548.85 L2273.08 1542.97 Z\" fill=\"#000000\" fill-rule=\"nonzero\" fill-opacity=\"1\" /><path clip-path=\"url(#clip070)\" d=\"M2298.15 1517.37 Q2294.54 1517.37 2292.71 1520.93 Q2290.9 1524.47 2290.9 1531.6 Q2290.9 1538.71 2292.71 1542.27 Q2294.54 1545.82 2298.15 1545.82 Q2301.78 1545.82 2303.59 1542.27 Q2305.42 1538.71 2305.42 1531.6 Q2305.42 1524.47 2303.59 1520.93 Q2301.78 1517.37 2298.15 1517.37 M2298.15 1513.66 Q2303.96 1513.66 2307.02 1518.27 Q2310.09 1522.85 2310.09 1531.6 Q2310.09 1540.33 2307.02 1544.94 Q2303.96 1549.52 2298.15 1549.52 Q2292.34 1549.52 2289.26 1544.94 Q2286.21 1540.33 2286.21 1531.6 Q2286.21 1522.85 2289.26 1518.27 Q2292.34 1513.66 2298.15 1513.66 Z\" fill=\"#000000\" fill-rule=\"nonzero\" fill-opacity=\"1\" /><path clip-path=\"url(#clip070)\" d=\"M2328.31 1517.37 Q2324.7 1517.37 2322.87 1520.93 Q2321.07 1524.47 2321.07 1531.6 Q2321.07 1538.71 2322.87 1542.27 Q2324.7 1545.82 2328.31 1545.82 Q2331.95 1545.82 2333.75 1542.27 Q2335.58 1538.71 2335.58 1531.6 Q2335.58 1524.47 2333.75 1520.93 Q2331.95 1517.37 2328.31 1517.37 M2328.31 1513.66 Q2334.12 1513.66 2337.18 1518.27 Q2340.26 1522.85 2340.26 1531.6 Q2340.26 1540.33 2337.18 1544.94 Q2334.12 1549.52 2328.31 1549.52 Q2322.5 1549.52 2319.42 1544.94 Q2316.37 1540.33 2316.37 1531.6 Q2316.37 1522.85 2319.42 1518.27 Q2322.5 1513.66 2328.31 1513.66 Z\" fill=\"#000000\" fill-rule=\"nonzero\" fill-opacity=\"1\" /><polyline clip-path=\"url(#clip072)\" style=\"stroke:#000000; stroke-linecap:round; stroke-linejoin:round; stroke-width:2; stroke-opacity:0.1; fill:none\" points=\"193.936,1445.72 2352.76,1445.72 \"/>\n",
       "<polyline clip-path=\"url(#clip072)\" style=\"stroke:#000000; stroke-linecap:round; stroke-linejoin:round; stroke-width:2; stroke-opacity:0.1; fill:none\" points=\"193.936,1106.28 2352.76,1106.28 \"/>\n",
       "<polyline clip-path=\"url(#clip072)\" style=\"stroke:#000000; stroke-linecap:round; stroke-linejoin:round; stroke-width:2; stroke-opacity:0.1; fill:none\" points=\"193.936,766.846 2352.76,766.846 \"/>\n",
       "<polyline clip-path=\"url(#clip072)\" style=\"stroke:#000000; stroke-linecap:round; stroke-linejoin:round; stroke-width:2; stroke-opacity:0.1; fill:none\" points=\"193.936,427.411 2352.76,427.411 \"/>\n",
       "<polyline clip-path=\"url(#clip072)\" style=\"stroke:#000000; stroke-linecap:round; stroke-linejoin:round; stroke-width:2; stroke-opacity:0.1; fill:none\" points=\"193.936,87.9763 2352.76,87.9763 \"/>\n",
       "<polyline clip-path=\"url(#clip070)\" style=\"stroke:#000000; stroke-linecap:round; stroke-linejoin:round; stroke-width:4; stroke-opacity:1; fill:none\" points=\"193.936,1486.45 193.936,47.2441 \"/>\n",
       "<polyline clip-path=\"url(#clip070)\" style=\"stroke:#000000; stroke-linecap:round; stroke-linejoin:round; stroke-width:4; stroke-opacity:1; fill:none\" points=\"193.936,1445.72 212.834,1445.72 \"/>\n",
       "<polyline clip-path=\"url(#clip070)\" style=\"stroke:#000000; stroke-linecap:round; stroke-linejoin:round; stroke-width:4; stroke-opacity:1; fill:none\" points=\"193.936,1106.28 212.834,1106.28 \"/>\n",
       "<polyline clip-path=\"url(#clip070)\" style=\"stroke:#000000; stroke-linecap:round; stroke-linejoin:round; stroke-width:4; stroke-opacity:1; fill:none\" points=\"193.936,766.846 212.834,766.846 \"/>\n",
       "<polyline clip-path=\"url(#clip070)\" style=\"stroke:#000000; stroke-linecap:round; stroke-linejoin:round; stroke-width:4; stroke-opacity:1; fill:none\" points=\"193.936,427.411 212.834,427.411 \"/>\n",
       "<polyline clip-path=\"url(#clip070)\" style=\"stroke:#000000; stroke-linecap:round; stroke-linejoin:round; stroke-width:4; stroke-opacity:1; fill:none\" points=\"193.936,87.9763 212.834,87.9763 \"/>\n",
       "<path clip-path=\"url(#clip070)\" d=\"M50.9921 1446.17 L80.6679 1446.17 L80.6679 1450.1 L50.9921 1450.1 L50.9921 1446.17 Z\" fill=\"#000000\" fill-rule=\"nonzero\" fill-opacity=\"1\" /><path clip-path=\"url(#clip070)\" d=\"M91.5706 1459.06 L99.2095 1459.06 L99.2095 1432.69 L90.8993 1434.36 L90.8993 1430.1 L99.1632 1428.44 L103.839 1428.44 L103.839 1459.06 L111.478 1459.06 L111.478 1463 L91.5706 1463 L91.5706 1459.06 Z\" fill=\"#000000\" fill-rule=\"nonzero\" fill-opacity=\"1\" /><path clip-path=\"url(#clip070)\" d=\"M120.922 1457.12 L125.807 1457.12 L125.807 1463 L120.922 1463 L120.922 1457.12 Z\" fill=\"#000000\" fill-rule=\"nonzero\" fill-opacity=\"1\" /><path clip-path=\"url(#clip070)\" d=\"M145.992 1431.51 Q142.381 1431.51 140.552 1435.08 Q138.746 1438.62 138.746 1445.75 Q138.746 1452.86 140.552 1456.42 Q142.381 1459.96 145.992 1459.96 Q149.626 1459.96 151.431 1456.42 Q153.26 1452.86 153.26 1445.75 Q153.26 1438.62 151.431 1435.08 Q149.626 1431.51 145.992 1431.51 M145.992 1427.81 Q151.802 1427.81 154.857 1432.42 Q157.936 1437 157.936 1445.75 Q157.936 1454.48 154.857 1459.08 Q151.802 1463.67 145.992 1463.67 Q140.181 1463.67 137.103 1459.08 Q134.047 1454.48 134.047 1445.75 Q134.047 1437 137.103 1432.42 Q140.181 1427.81 145.992 1427.81 Z\" fill=\"#000000\" fill-rule=\"nonzero\" fill-opacity=\"1\" /><path clip-path=\"url(#clip070)\" d=\"M51.9875 1106.73 L81.6633 1106.73 L81.6633 1110.67 L51.9875 1110.67 L51.9875 1106.73 Z\" fill=\"#000000\" fill-rule=\"nonzero\" fill-opacity=\"1\" /><path clip-path=\"url(#clip070)\" d=\"M101.756 1092.08 Q98.1447 1092.08 96.316 1095.64 Q94.5104 1099.19 94.5104 1106.32 Q94.5104 1113.42 96.316 1116.99 Q98.1447 1120.53 101.756 1120.53 Q105.39 1120.53 107.196 1116.99 Q109.024 1113.42 109.024 1106.32 Q109.024 1099.19 107.196 1095.64 Q105.39 1092.08 101.756 1092.08 M101.756 1088.38 Q107.566 1088.38 110.621 1092.98 Q113.7 1097.57 113.7 1106.32 Q113.7 1115.04 110.621 1119.65 Q107.566 1124.23 101.756 1124.23 Q95.9456 1124.23 92.8669 1119.65 Q89.8114 1115.04 89.8114 1106.32 Q89.8114 1097.57 92.8669 1092.98 Q95.9456 1088.38 101.756 1088.38 Z\" fill=\"#000000\" fill-rule=\"nonzero\" fill-opacity=\"1\" /><path clip-path=\"url(#clip070)\" d=\"M121.918 1117.68 L126.802 1117.68 L126.802 1123.56 L121.918 1123.56 L121.918 1117.68 Z\" fill=\"#000000\" fill-rule=\"nonzero\" fill-opacity=\"1\" /><path clip-path=\"url(#clip070)\" d=\"M137.033 1089 L155.39 1089 L155.39 1092.94 L141.316 1092.94 L141.316 1101.41 Q142.334 1101.06 143.353 1100.9 Q144.371 1100.71 145.39 1100.71 Q151.177 1100.71 154.556 1103.89 Q157.936 1107.06 157.936 1112.47 Q157.936 1118.05 154.464 1121.15 Q150.992 1124.23 144.672 1124.23 Q142.496 1124.23 140.228 1123.86 Q137.982 1123.49 135.575 1122.75 L135.575 1118.05 Q137.658 1119.19 139.881 1119.74 Q142.103 1120.3 144.58 1120.3 Q148.584 1120.3 150.922 1118.19 Q153.26 1116.08 153.26 1112.47 Q153.26 1108.86 150.922 1106.76 Q148.584 1104.65 144.58 1104.65 Q142.705 1104.65 140.83 1105.07 Q138.978 1105.48 137.033 1106.36 L137.033 1089 Z\" fill=\"#000000\" fill-rule=\"nonzero\" fill-opacity=\"1\" /><path clip-path=\"url(#clip070)\" d=\"M100.76 752.645 Q97.1493 752.645 95.3206 756.209 Q93.515 759.751 93.515 766.881 Q93.515 773.987 95.3206 777.552 Q97.1493 781.094 100.76 781.094 Q104.395 781.094 106.2 777.552 Q108.029 773.987 108.029 766.881 Q108.029 759.751 106.2 756.209 Q104.395 752.645 100.76 752.645 M100.76 748.941 Q106.571 748.941 109.626 753.547 Q112.705 758.131 112.705 766.881 Q112.705 775.608 109.626 780.214 Q106.571 784.797 100.76 784.797 Q94.9502 784.797 91.8715 780.214 Q88.816 775.608 88.816 766.881 Q88.816 758.131 91.8715 753.547 Q94.9502 748.941 100.76 748.941 Z\" fill=\"#000000\" fill-rule=\"nonzero\" fill-opacity=\"1\" /><path clip-path=\"url(#clip070)\" d=\"M120.922 778.246 L125.807 778.246 L125.807 784.126 L120.922 784.126 L120.922 778.246 Z\" fill=\"#000000\" fill-rule=\"nonzero\" fill-opacity=\"1\" /><path clip-path=\"url(#clip070)\" d=\"M145.992 752.645 Q142.381 752.645 140.552 756.209 Q138.746 759.751 138.746 766.881 Q138.746 773.987 140.552 777.552 Q142.381 781.094 145.992 781.094 Q149.626 781.094 151.431 777.552 Q153.26 773.987 153.26 766.881 Q153.26 759.751 151.431 756.209 Q149.626 752.645 145.992 752.645 M145.992 748.941 Q151.802 748.941 154.857 753.547 Q157.936 758.131 157.936 766.881 Q157.936 775.608 154.857 780.214 Q151.802 784.797 145.992 784.797 Q140.181 784.797 137.103 780.214 Q134.047 775.608 134.047 766.881 Q134.047 758.131 137.103 753.547 Q140.181 748.941 145.992 748.941 Z\" fill=\"#000000\" fill-rule=\"nonzero\" fill-opacity=\"1\" /><path clip-path=\"url(#clip070)\" d=\"M101.756 413.21 Q98.1447 413.21 96.316 416.775 Q94.5104 420.316 94.5104 427.446 Q94.5104 434.552 96.316 438.117 Q98.1447 441.659 101.756 441.659 Q105.39 441.659 107.196 438.117 Q109.024 434.552 109.024 427.446 Q109.024 420.316 107.196 416.775 Q105.39 413.21 101.756 413.21 M101.756 409.506 Q107.566 409.506 110.621 414.113 Q113.7 418.696 113.7 427.446 Q113.7 436.173 110.621 440.779 Q107.566 445.362 101.756 445.362 Q95.9456 445.362 92.8669 440.779 Q89.8114 436.173 89.8114 427.446 Q89.8114 418.696 92.8669 414.113 Q95.9456 409.506 101.756 409.506 Z\" fill=\"#000000\" fill-rule=\"nonzero\" fill-opacity=\"1\" /><path clip-path=\"url(#clip070)\" d=\"M121.918 438.812 L126.802 438.812 L126.802 444.691 L121.918 444.691 L121.918 438.812 Z\" fill=\"#000000\" fill-rule=\"nonzero\" fill-opacity=\"1\" /><path clip-path=\"url(#clip070)\" d=\"M137.033 410.131 L155.39 410.131 L155.39 414.066 L141.316 414.066 L141.316 422.538 Q142.334 422.191 143.353 422.029 Q144.371 421.844 145.39 421.844 Q151.177 421.844 154.556 425.015 Q157.936 428.187 157.936 433.603 Q157.936 439.182 154.464 442.284 Q150.992 445.362 144.672 445.362 Q142.496 445.362 140.228 444.992 Q137.982 444.622 135.575 443.881 L135.575 439.182 Q137.658 440.316 139.881 440.872 Q142.103 441.427 144.58 441.427 Q148.584 441.427 150.922 439.321 Q153.26 437.214 153.26 433.603 Q153.26 429.992 150.922 427.886 Q148.584 425.779 144.58 425.779 Q142.705 425.779 140.83 426.196 Q138.978 426.613 137.033 427.492 L137.033 410.131 Z\" fill=\"#000000\" fill-rule=\"nonzero\" fill-opacity=\"1\" /><path clip-path=\"url(#clip070)\" d=\"M91.5706 101.321 L99.2095 101.321 L99.2095 74.9555 L90.8993 76.6222 L90.8993 72.3629 L99.1632 70.6963 L103.839 70.6963 L103.839 101.321 L111.478 101.321 L111.478 105.256 L91.5706 105.256 L91.5706 101.321 Z\" fill=\"#000000\" fill-rule=\"nonzero\" fill-opacity=\"1\" /><path clip-path=\"url(#clip070)\" d=\"M120.922 99.3767 L125.807 99.3767 L125.807 105.256 L120.922 105.256 L120.922 99.3767 Z\" fill=\"#000000\" fill-rule=\"nonzero\" fill-opacity=\"1\" /><path clip-path=\"url(#clip070)\" d=\"M145.992 73.775 Q142.381 73.775 140.552 77.3398 Q138.746 80.8814 138.746 88.011 Q138.746 95.1174 140.552 98.6822 Q142.381 102.224 145.992 102.224 Q149.626 102.224 151.431 98.6822 Q153.26 95.1174 153.26 88.011 Q153.26 80.8814 151.431 77.3398 Q149.626 73.775 145.992 73.775 M145.992 70.0713 Q151.802 70.0713 154.857 74.6777 Q157.936 79.261 157.936 88.011 Q157.936 96.7378 154.857 101.344 Q151.802 105.928 145.992 105.928 Q140.181 105.928 137.103 101.344 Q134.047 96.7378 134.047 88.011 Q134.047 79.261 137.103 74.6777 Q140.181 70.0713 145.992 70.0713 Z\" fill=\"#000000\" fill-rule=\"nonzero\" fill-opacity=\"1\" /><polyline clip-path=\"url(#clip072)\" style=\"stroke:#009af9; stroke-linecap:round; stroke-linejoin:round; stroke-width:4; stroke-opacity:1; fill:none\" points=\"255.035,87.9763 275.607,94.765 296.179,101.486 316.751,108.139 337.322,114.726 357.894,121.248 378.466,127.704 399.038,134.095 419.61,140.423 440.182,146.687 460.754,152.888 481.326,159.028 501.898,165.106 522.47,171.124 543.042,177.081 563.614,182.978 584.186,188.817 604.758,194.597 625.33,200.32 645.902,205.985 666.474,211.594 687.046,217.146 707.617,222.643 728.189,228.085 748.761,233.473 769.333,238.807 789.905,244.087 810.477,249.315 831.049,254.49 851.621,259.613 872.193,264.686 892.765,269.707 913.337,274.679 933.909,279.6 954.481,284.473 975.053,289.297 995.625,294.072 1016.2,298.8 1036.77,303.48 1057.34,308.114 1077.91,312.701 1098.48,317.243 1119.06,321.739 1139.63,326.19 1160.2,330.596 1180.77,334.959 1201.34,339.278 1221.92,343.553 1242.49,347.786 1263.06,351.977 1283.63,356.126 1304.2,360.233 1324.78,364.299 1345.35,368.324 1365.92,372.31 1386.49,376.255 1407.06,380.161 1427.64,384.028 1448.21,387.856 1468.78,391.646 1489.35,395.398 1509.92,399.112 1530.5,402.79 1551.07,406.43 1571.64,410.034 1592.21,413.603 1612.78,417.135 1633.35,420.632 1653.93,424.094 1674.5,427.522 1695.07,430.915 1715.64,434.274 1736.21,437.6 1756.79,440.892 1777.36,444.152 1797.93,447.379 1818.5,450.574 1839.07,453.736 1859.65,456.867 1880.22,459.967 1900.79,463.036 1921.36,466.074 1941.93,469.082 1962.51,472.059 1983.08,475.007 2003.65,477.926 2024.22,480.815 2044.79,483.675 2065.37,486.507 2085.94,489.31 2106.51,492.086 2127.08,494.833 2147.65,497.553 2168.23,500.246 2188.8,502.912 2209.37,505.552 2229.94,508.165 2250.51,510.751 2271.09,513.312 2291.66,515.848 \"/>\n",
       "<polyline clip-path=\"url(#clip072)\" style=\"stroke:#e26f46; stroke-linecap:round; stroke-linejoin:round; stroke-width:4; stroke-opacity:1; fill:none\" points=\"255.035,1445.72 275.607,1438.93 296.179,1432.21 316.751,1425.55 337.322,1418.97 357.894,1412.44 378.466,1405.99 399.038,1399.6 419.61,1393.27 440.182,1387.01 460.754,1380.8 481.326,1374.66 501.898,1368.59 522.47,1362.57 543.042,1356.61 563.614,1350.71 584.186,1344.87 604.758,1339.09 625.33,1333.37 645.902,1327.71 666.474,1322.1 687.046,1316.55 707.617,1311.05 728.189,1305.61 748.761,1300.22 769.333,1294.89 789.905,1289.6 810.477,1284.38 831.049,1279.2 851.621,1274.08 872.193,1269.01 892.765,1263.98 913.337,1259.01 933.909,1254.09 954.481,1249.22 975.053,1244.4 995.625,1239.62 1016.2,1234.89 1036.77,1230.21 1057.34,1225.58 1077.91,1220.99 1098.48,1216.45 1119.06,1211.95 1139.63,1207.5 1160.2,1203.1 1180.77,1198.73 1201.34,1194.41 1221.92,1190.14 1242.49,1185.91 1263.06,1181.71 1283.63,1177.57 1304.2,1173.46 1324.78,1169.39 1345.35,1165.37 1365.92,1161.38 1386.49,1157.44 1407.06,1153.53 1427.64,1149.66 1448.21,1145.84 1468.78,1142.05 1489.35,1138.29 1509.92,1134.58 1530.5,1130.9 1551.07,1127.26 1571.64,1123.66 1592.21,1120.09 1612.78,1116.56 1633.35,1113.06 1653.93,1109.6 1674.5,1106.17 1695.07,1102.78 1715.64,1099.42 1736.21,1096.09 1756.79,1092.8 1777.36,1089.54 1797.93,1086.31 1818.5,1083.12 1839.07,1079.96 1859.65,1076.82 1880.22,1073.72 1900.79,1070.66 1921.36,1067.62 1941.93,1064.61 1962.51,1061.63 1983.08,1058.68 2003.65,1055.77 2024.22,1052.88 2044.79,1050.02 2065.37,1047.19 2085.94,1044.38 2106.51,1041.61 2127.08,1038.86 2147.65,1036.14 2168.23,1033.45 2188.8,1030.78 2209.37,1028.14 2229.94,1025.53 2250.51,1022.94 2271.09,1020.38 2291.66,1017.84 \"/>\n",
       "<polyline clip-path=\"url(#clip072)\" style=\"stroke:#3da44d; stroke-linecap:round; stroke-linejoin:round; stroke-width:4; stroke-opacity:1; fill:none\" points=\"255.035,87.9763 275.607,94.731 296.179,101.419 316.751,108.04 337.322,114.595 357.894,121.085 378.466,127.51 399.038,133.871 419.61,140.169 440.182,146.405 460.754,152.578 481.326,158.69 501.898,164.741 522.47,170.732 543.042,176.664 563.614,182.536 584.186,188.35 604.758,194.106 625.33,199.805 645.902,205.447 666.474,211.033 687.046,216.563 707.617,222.038 728.189,227.459 748.761,232.826 769.333,238.14 789.905,243.4 810.477,248.608 831.049,253.765 851.621,258.87 872.193,263.924 892.765,268.928 913.337,273.883 933.909,278.788 954.481,283.644 975.053,288.452 995.625,293.212 1016.2,297.924 1036.77,302.59 1057.34,307.21 1077.91,311.783 1098.48,316.311 1119.06,320.794 1139.63,325.232 1160.2,329.626 1180.77,333.976 1201.34,338.283 1221.92,342.548 1242.49,346.769 1263.06,350.949 1283.63,355.087 1304.2,359.184 1324.78,363.24 1345.35,367.256 1365.92,371.232 1386.49,375.169 1407.06,379.066 1427.64,382.924 1448.21,386.744 1468.78,390.526 1489.35,394.271 1509.92,397.978 1530.5,401.648 1551.07,405.282 1571.64,408.879 1592.21,412.441 1612.78,415.967 1633.35,419.459 1653.93,422.915 1674.5,426.337 1695.07,429.725 1715.64,433.08 1736.21,436.401 1756.79,439.689 1777.36,442.944 1797.93,446.167 1818.5,449.357 1839.07,452.516 1859.65,455.644 1880.22,458.74 1900.79,461.806 1921.36,464.841 1941.93,467.846 1962.51,470.821 1983.08,473.767 2003.65,476.683 2024.22,479.57 2044.79,482.428 2065.37,485.258 2085.94,488.06 2106.51,490.834 2127.08,493.58 2147.65,496.299 2168.23,498.991 2188.8,501.656 2209.37,504.295 2229.94,506.907 2250.51,509.494 2271.09,512.054 2291.66,514.59 \"/>\n",
       "<polyline clip-path=\"url(#clip072)\" style=\"stroke:#c271d2; stroke-linecap:round; stroke-linejoin:round; stroke-width:4; stroke-opacity:1; fill:none\" points=\"255.035,1445.72 275.607,1438.96 296.179,1432.27 316.751,1425.65 337.322,1419.1 357.894,1412.61 378.466,1406.18 399.038,1399.82 419.61,1393.52 440.182,1387.29 460.754,1381.11 481.326,1375 501.898,1368.95 522.47,1362.96 543.042,1357.03 563.614,1351.16 584.186,1345.34 604.758,1339.59 625.33,1333.89 645.902,1328.25 666.474,1322.66 687.046,1317.13 707.617,1311.65 728.189,1306.23 748.761,1300.87 769.333,1295.55 789.905,1290.29 810.477,1285.08 831.049,1279.93 851.621,1274.82 872.193,1269.77 892.765,1264.76 913.337,1259.81 933.909,1254.9 954.481,1250.05 975.053,1245.24 995.625,1240.48 1016.2,1235.77 1036.77,1231.1 1057.34,1226.48 1077.91,1221.91 1098.48,1217.38 1119.06,1212.9 1139.63,1208.46 1160.2,1204.07 1180.77,1199.72 1201.34,1195.41 1221.92,1191.14 1242.49,1186.92 1263.06,1182.74 1283.63,1178.6 1304.2,1174.51 1324.78,1170.45 1345.35,1166.44 1365.92,1162.46 1386.49,1158.52 1407.06,1154.63 1427.64,1150.77 1448.21,1146.95 1468.78,1143.17 1489.35,1139.42 1509.92,1135.71 1530.5,1132.04 1551.07,1128.41 1571.64,1124.81 1592.21,1121.25 1612.78,1117.72 1633.35,1114.23 1653.93,1110.78 1674.5,1107.35 1695.07,1103.97 1715.64,1100.61 1736.21,1097.29 1756.79,1094 1777.36,1090.75 1797.93,1087.53 1818.5,1084.33 1839.07,1081.18 1859.65,1078.05 1880.22,1074.95 1900.79,1071.89 1921.36,1068.85 1941.93,1065.85 1962.51,1062.87 1983.08,1059.93 2003.65,1057.01 2024.22,1054.12 2044.79,1051.26 2065.37,1048.43 2085.94,1045.63 2106.51,1042.86 2127.08,1040.11 2147.65,1037.39 2168.23,1034.7 2188.8,1032.04 2209.37,1029.4 2229.94,1026.78 2250.51,1024.2 2271.09,1021.64 2291.66,1019.1 \"/>\n",
       "<path clip-path=\"url(#clip070)\" d=\"M2010.77 354.418 L2280.8 354.418 L2280.8 95.2176 L2010.77 95.2176  Z\" fill=\"#ffffff\" fill-rule=\"evenodd\" fill-opacity=\"1\"/>\n",
       "<polyline clip-path=\"url(#clip070)\" style=\"stroke:#000000; stroke-linecap:round; stroke-linejoin:round; stroke-width:4; stroke-opacity:1; fill:none\" points=\"2010.77,354.418 2280.8,354.418 2280.8,95.2176 2010.77,95.2176 2010.77,354.418 \"/>\n",
       "<polyline clip-path=\"url(#clip070)\" style=\"stroke:#009af9; stroke-linecap:round; stroke-linejoin:round; stroke-width:4; stroke-opacity:1; fill:none\" points=\"2034.76,147.058 2178.68,147.058 \"/>\n",
       "<path clip-path=\"url(#clip070)\" d=\"M2216.51 166.745 Q2214.7 171.375 2212.99 172.787 Q2211.28 174.199 2208.41 174.199 L2205 174.199 L2205 170.634 L2207.5 170.634 Q2209.26 170.634 2210.23 169.8 Q2211.21 168.967 2212.39 165.865 L2213.15 163.921 L2202.67 138.412 L2207.18 138.412 L2215.28 158.689 L2223.38 138.412 L2227.9 138.412 L2216.51 166.745 Z\" fill=\"#000000\" fill-rule=\"nonzero\" fill-opacity=\"1\" /><path clip-path=\"url(#clip070)\" d=\"M2235.19 160.402 L2242.83 160.402 L2242.83 134.037 L2234.52 135.703 L2234.52 131.444 L2242.78 129.778 L2247.46 129.778 L2247.46 160.402 L2255.1 160.402 L2255.1 164.338 L2235.19 164.338 L2235.19 160.402 Z\" fill=\"#000000\" fill-rule=\"nonzero\" fill-opacity=\"1\" /><polyline clip-path=\"url(#clip070)\" style=\"stroke:#e26f46; stroke-linecap:round; stroke-linejoin:round; stroke-width:4; stroke-opacity:1; fill:none\" points=\"2034.76,198.898 2178.68,198.898 \"/>\n",
       "<path clip-path=\"url(#clip070)\" d=\"M2216.51 218.585 Q2214.7 223.215 2212.99 224.627 Q2211.28 226.039 2208.41 226.039 L2205 226.039 L2205 222.474 L2207.5 222.474 Q2209.26 222.474 2210.23 221.64 Q2211.21 220.807 2212.39 217.705 L2213.15 215.761 L2202.67 190.252 L2207.18 190.252 L2215.28 210.529 L2223.38 190.252 L2227.9 190.252 L2216.51 218.585 Z\" fill=\"#000000\" fill-rule=\"nonzero\" fill-opacity=\"1\" /><path clip-path=\"url(#clip070)\" d=\"M2238.41 212.242 L2254.73 212.242 L2254.73 216.178 L2232.78 216.178 L2232.78 212.242 Q2235.44 209.488 2240.03 204.858 Q2244.63 200.205 2245.81 198.863 Q2248.06 196.34 2248.94 194.604 Q2249.84 192.844 2249.84 191.155 Q2249.84 188.4 2247.9 186.664 Q2245.98 184.928 2242.87 184.928 Q2240.67 184.928 2238.22 185.692 Q2235.79 186.455 2233.01 188.006 L2233.01 183.284 Q2235.84 182.15 2238.29 181.571 Q2240.74 180.993 2242.78 180.993 Q2248.15 180.993 2251.35 183.678 Q2254.54 186.363 2254.54 190.854 Q2254.54 192.983 2253.73 194.905 Q2252.94 196.803 2250.84 199.395 Q2250.26 200.067 2247.16 203.284 Q2244.05 206.479 2238.41 212.242 Z\" fill=\"#000000\" fill-rule=\"nonzero\" fill-opacity=\"1\" /><polyline clip-path=\"url(#clip070)\" style=\"stroke:#3da44d; stroke-linecap:round; stroke-linejoin:round; stroke-width:4; stroke-opacity:1; fill:none\" points=\"2034.76,250.738 2178.68,250.738 \"/>\n",
       "<path clip-path=\"url(#clip070)\" d=\"M2216.51 270.425 Q2214.7 275.055 2212.99 276.467 Q2211.28 277.879 2208.41 277.879 L2205 277.879 L2205 274.314 L2207.5 274.314 Q2209.26 274.314 2210.23 273.48 Q2211.21 272.647 2212.39 269.545 L2213.15 267.601 L2202.67 242.092 L2207.18 242.092 L2215.28 262.369 L2223.38 242.092 L2227.9 242.092 L2216.51 270.425 Z\" fill=\"#000000\" fill-rule=\"nonzero\" fill-opacity=\"1\" /><path clip-path=\"url(#clip070)\" d=\"M2248.54 249.383 Q2251.9 250.101 2253.78 252.369 Q2255.67 254.638 2255.67 257.971 Q2255.67 263.087 2252.16 265.888 Q2248.64 268.689 2242.16 268.689 Q2239.98 268.689 2237.66 268.249 Q2235.37 267.832 2232.92 266.976 L2232.92 262.462 Q2234.86 263.596 2237.18 264.175 Q2239.49 264.754 2242.02 264.754 Q2246.41 264.754 2248.71 263.018 Q2251.02 261.281 2251.02 257.971 Q2251.02 254.916 2248.87 253.203 Q2246.74 251.467 2242.92 251.467 L2238.89 251.467 L2238.89 247.624 L2243.1 247.624 Q2246.55 247.624 2248.38 246.258 Q2250.21 244.87 2250.21 242.277 Q2250.21 239.615 2248.31 238.203 Q2246.44 236.768 2242.92 236.768 Q2241 236.768 2238.8 237.184 Q2236.6 237.601 2233.96 238.481 L2233.96 234.314 Q2236.62 233.573 2238.94 233.203 Q2241.28 232.833 2243.34 232.833 Q2248.66 232.833 2251.76 235.263 Q2254.86 237.67 2254.86 241.791 Q2254.86 244.661 2253.22 246.652 Q2251.58 248.62 2248.54 249.383 Z\" fill=\"#000000\" fill-rule=\"nonzero\" fill-opacity=\"1\" /><polyline clip-path=\"url(#clip070)\" style=\"stroke:#c271d2; stroke-linecap:round; stroke-linejoin:round; stroke-width:4; stroke-opacity:1; fill:none\" points=\"2034.76,302.578 2178.68,302.578 \"/>\n",
       "<path clip-path=\"url(#clip070)\" d=\"M2216.51 322.265 Q2214.7 326.895 2212.99 328.307 Q2211.28 329.719 2208.41 329.719 L2205 329.719 L2205 326.154 L2207.5 326.154 Q2209.26 326.154 2210.23 325.32 Q2211.21 324.487 2212.39 321.385 L2213.15 319.441 L2202.67 293.932 L2207.18 293.932 L2215.28 314.209 L2223.38 293.932 L2227.9 293.932 L2216.51 322.265 Z\" fill=\"#000000\" fill-rule=\"nonzero\" fill-opacity=\"1\" /><path clip-path=\"url(#clip070)\" d=\"M2247.23 289.372 L2235.42 307.821 L2247.23 307.821 L2247.23 289.372 M2246 285.298 L2251.88 285.298 L2251.88 307.821 L2256.81 307.821 L2256.81 311.709 L2251.88 311.709 L2251.88 319.858 L2247.23 319.858 L2247.23 311.709 L2231.62 311.709 L2231.62 307.196 L2246 285.298 Z\" fill=\"#000000\" fill-rule=\"nonzero\" fill-opacity=\"1\" /></svg>\n"
      ]
     },
     "metadata": {},
     "output_type": "display_data"
    }
   ],
   "source": [
    "plot(0.01:0.01:1, solution)\n",
    "plot!(0.01:0.01:1, solution2)"
   ]
  },
  {
   "cell_type": "code",
   "execution_count": 29,
   "metadata": {},
   "outputs": [
    {
     "data": {
      "text/plain": [
       "2//1"
      ]
     },
     "metadata": {},
     "output_type": "display_data"
    }
   ],
   "source": []
  },
  {
   "cell_type": "code",
   "execution_count": null,
   "metadata": {},
   "outputs": [],
   "source": []
  }
 ],
 "metadata": {
  "kernelspec": {
   "display_name": "Julia 1.9.3",
   "language": "julia",
   "name": "julia-1.9"
  },
  "language_info": {
   "file_extension": ".jl",
   "mimetype": "application/julia",
   "name": "julia",
   "version": "1.9.3"
  }
 },
 "nbformat": 4,
 "nbformat_minor": 2
}
